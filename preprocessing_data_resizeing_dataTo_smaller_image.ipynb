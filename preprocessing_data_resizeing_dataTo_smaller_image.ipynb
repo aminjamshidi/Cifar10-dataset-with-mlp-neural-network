{
 "cells": [
  {
   "cell_type": "markdown",
   "id": "94620d29",
   "metadata": {},
   "source": [
    "# preprocessing"
   ]
  },
  {
   "cell_type": "code",
   "execution_count": 2,
   "id": "3c413cbe",
   "metadata": {},
   "outputs": [],
   "source": [
    "import numpy as np\n",
    "import matplotlib.pyplot as plt\n",
    "import os\n",
    "from six.moves import cPickle\n",
    "import tensorflow as tf\n",
    "from tensorflow import keras\n",
    "from tensorflow.keras.models import Sequential\n",
    "from tensorflow.keras.layers import Activation,Dense\n",
    "from tensorflow.keras.optimizers import Adam\n",
    "from tensorflow.keras.utils import to_categorical\n",
    "%matplotlib inline\n",
    "\n",
    "import cv2"
   ]
  },
  {
   "cell_type": "markdown",
   "id": "71998659",
   "metadata": {},
   "source": [
    "Definding function:"
   ]
  },
  {
   "cell_type": "code",
   "execution_count": 3,
   "id": "17485044",
   "metadata": {},
   "outputs": [],
   "source": [
    "# this function give file of data  as numpy array or image\n",
    "\n",
    "def getImageData(filename):\n",
    "    f = open(filename,'rb')\n",
    "    datadict = cPickle.load(f,encoding='latin1') #Why the hell latin1 ???\n",
    "    f.close()\n",
    "    X=datadict['data'].reshape((len(datadict['data']), 3, 32, 32)).transpose(0, 2, 3, 1)\n",
    "    return X\n",
    "\n",
    "\n",
    "# this function give file of data  as dictionary\n",
    "\n",
    "\n",
    "def unpickle(file):\n",
    "    import pickle\n",
    "    with open(file, 'rb') as fo:\n",
    "        dict = pickle.load(fo, encoding='bytes')\n",
    "    return dict\n",
    "\n",
    "\n",
    "#for show image in flatten form\n",
    "def plotImage(X):\n",
    "    plt.figure(figsize=(3, 3))\n",
    "    plt.imshow(X.reshape(32,32,3))\n",
    "    plt.show()\n",
    "    plt.close()"
   ]
  },
  {
   "cell_type": "markdown",
   "id": "52a60073",
   "metadata": {},
   "source": [
    "laod data"
   ]
  },
  {
   "cell_type": "code",
   "execution_count": 45,
   "id": "4dc38d50",
   "metadata": {},
   "outputs": [
    {
     "name": "stdout",
     "output_type": "stream",
     "text": [
      "shape of input image: (10000, 32, 32, 3)\n",
      "#############################################\n",
      "[0. 0. 0. 0. 0. 0. 1. 0. 0. 0.]\n",
      "shape of target vector: (10000, 10)\n"
     ]
    },
    {
     "data": {
      "image/png": "[encoded data removed]",
      "text/plain": [
       "<Figure size 432x288 with 1 Axes>"
      ]
     },
     "metadata": {
      "needs_background": "light"
     },
     "output_type": "display_data"
    }
   ],
   "source": [
    "file='cifar-10-batches-py\\data_batch_3'\n",
    "\n",
    "X_image = getImageData(file)\n",
    "x=unpickle(file)\n",
    "\n",
    "\n",
    "print('shape of input image:',X_image.shape)\n",
    "print('#############################################')\n",
    "plt.imshow(X_image[22])\n",
    "\n",
    "\n",
    "#geting vector  of target of data:\n",
    "y=x[b'labels']\n",
    "y_train=to_categorical(y)\n",
    "print(y_train[22])\n",
    "print('shape of target vector:',y_train.shape)"
   ]
  },
  {
   "cell_type": "markdown",
   "id": "9379f690",
   "metadata": {},
   "source": [
    "make image gary"
   ]
  },
  {
   "cell_type": "code",
   "execution_count": 46,
   "id": "d72fa170",
   "metadata": {},
   "outputs": [],
   "source": [
    "temp=[]\n",
    "for i in range(10000):\n",
    "    temp.append(cv2.cvtColor(X_image[i], cv2.COLOR_BGR2GRAY))\n",
    "    \n",
    "\n"
   ]
  },
  {
   "cell_type": "code",
   "execution_count": 47,
   "id": "a2d69f82",
   "metadata": {},
   "outputs": [],
   "source": [
    "data_gray=np.array(temp)"
   ]
  },
  {
   "cell_type": "markdown",
   "id": "68c619a1",
   "metadata": {},
   "source": [
    "preprocessing---->resizeing to 16x16"
   ]
  },
  {
   "cell_type": "code",
   "execution_count": 48,
   "id": "e4deedbc",
   "metadata": {},
   "outputs": [
    {
     "data": {
      "text/plain": [
       "(10000, 32, 32)"
      ]
     },
     "execution_count": 48,
     "metadata": {},
     "output_type": "execute_result"
    },
    {
     "data": {
      "image/png": "[encoded data removed]",
      "text/plain": [
       "<Figure size 432x288 with 1 Axes>"
      ]
     },
     "metadata": {
      "needs_background": "light"
     },
     "output_type": "display_data"
    }
   ],
   "source": [
    "temp=[]\n",
    "for i in range(10000):\n",
    "    temp.append(cv2.resize(data_gray[i],(16,16)))\n",
    "    \n",
    "    \n",
    "    \n",
    "data=np.array(temp)\n",
    "\n",
    "plt.imshow(data[22],cmap='gray')\n",
    "data.shape"
   ]
  },
  {
   "cell_type": "code",
   "execution_count": 49,
   "id": "bc9e8f66",
   "metadata": {},
   "outputs": [
    {
     "data": {
      "text/plain": [
       "(10000, 1024)"
      ]
     },
     "execution_count": 49,
     "metadata": {},
     "output_type": "execute_result"
    }
   ],
   "source": [
    "x_faltten=data.reshape(10000,-1)\n",
    "\n",
    "x=x_faltten/255\n",
    "x.shape"
   ]
  },
  {
   "cell_type": "markdown",
   "id": "9f68d758",
   "metadata": {},
   "source": [
    "Constructing model:"
   ]
  },
  {
   "cell_type": "code",
   "execution_count": 50,
   "id": "bfc4c9ae",
   "metadata": {},
   "outputs": [
    {
     "name": "stdout",
     "output_type": "stream",
     "text": [
      "Model: \"sequential_3\"\n",
      "_________________________________________________________________\n",
      "Layer (type)                 Output Shape              Param #   \n",
      "=================================================================\n",
      "dense_12 (Dense)             (None, 1000)              1025000   \n",
      "_________________________________________________________________\n",
      "dense_13 (Dense)             (None, 1000)              1001000   \n",
      "_________________________________________________________________\n",
      "dense_14 (Dense)             (None, 500)               500500    \n",
      "_________________________________________________________________\n",
      "dense_15 (Dense)             (None, 10)                5010      \n",
      "=================================================================\n",
      "Total params: 2,531,510\n",
      "Trainable params: 2,531,510\n",
      "Non-trainable params: 0\n",
      "_________________________________________________________________\n"
     ]
    }
   ],
   "source": [
    "model=Sequential()\n",
    "\n",
    "\n",
    "model.add(Dense(1000,activation='relu',input_dim=1024))\n",
    "model.add(Dense(1000,activation='relu'))\n",
    "model.add(Dense(500,activation='relu'))\n",
    "model.add(Dense(10,activation='softmax'))\n",
    "model.summary()"
   ]
  },
  {
   "cell_type": "code",
   "execution_count": 51,
   "id": "37837f5b",
   "metadata": {},
   "outputs": [],
   "source": [
    "model.compile(optimizer='Adam',loss='categorical_crossentropy',metrics=['accuracy'])"
   ]
  },
  {
   "cell_type": "code",
   "execution_count": 52,
   "id": "e4e66eb6",
   "metadata": {},
   "outputs": [
    {
     "name": "stdout",
     "output_type": "stream",
     "text": [
      "Epoch 1/40\n",
      "71/71 [==============================] - 1s 15ms/step - loss: 2.1545 - accuracy: 0.2061 - val_loss: 2.0505 - val_accuracy: 0.2510\n",
      "Epoch 2/40\n",
      "71/71 [==============================] - 1s 13ms/step - loss: 1.9903 - accuracy: 0.2780 - val_loss: 1.9737 - val_accuracy: 0.2820\n",
      "Epoch 3/40\n",
      "71/71 [==============================] - 1s 13ms/step - loss: 1.9127 - accuracy: 0.3070 - val_loss: 1.9877 - val_accuracy: 0.2740\n",
      "Epoch 4/40\n",
      "71/71 [==============================] - 1s 16ms/step - loss: 1.8729 - accuracy: 0.3246 - val_loss: 1.8848 - val_accuracy: 0.3320\n",
      "Epoch 5/40\n",
      "71/71 [==============================] - 1s 17ms/step - loss: 1.8369 - accuracy: 0.3423 - val_loss: 1.9110 - val_accuracy: 0.3090\n",
      "Epoch 6/40\n",
      "71/71 [==============================] - 1s 17ms/step - loss: 1.7970 - accuracy: 0.3561 - val_loss: 1.8313 - val_accuracy: 0.3590\n",
      "Epoch 7/40\n",
      "71/71 [==============================] - 1s 17ms/step - loss: 1.7488 - accuracy: 0.3752 - val_loss: 1.8400 - val_accuracy: 0.3280\n",
      "Epoch 8/40\n",
      "71/71 [==============================] - 1s 17ms/step - loss: 1.7095 - accuracy: 0.3803 - val_loss: 1.8566 - val_accuracy: 0.3300\n",
      "Epoch 9/40\n",
      "71/71 [==============================] - 1s 17ms/step - loss: 1.6739 - accuracy: 0.4026 - val_loss: 1.8198 - val_accuracy: 0.3440\n",
      "Epoch 10/40\n",
      "71/71 [==============================] - 1s 17ms/step - loss: 1.6660 - accuracy: 0.4018 - val_loss: 1.8257 - val_accuracy: 0.3480\n",
      "Epoch 11/40\n",
      "71/71 [==============================] - 1s 17ms/step - loss: 1.6163 - accuracy: 0.4231 - val_loss: 1.8612 - val_accuracy: 0.3480\n",
      "Epoch 12/40\n",
      "71/71 [==============================] - 1s 18ms/step - loss: 1.5945 - accuracy: 0.4257 - val_loss: 1.7919 - val_accuracy: 0.3690\n",
      "Epoch 13/40\n",
      "71/71 [==============================] - 1s 18ms/step - loss: 1.5512 - accuracy: 0.4401 - val_loss: 1.9665 - val_accuracy: 0.3000\n",
      "Epoch 14/40\n",
      "71/71 [==============================] - 1s 18ms/step - loss: 1.5451 - accuracy: 0.4439 - val_loss: 1.8339 - val_accuracy: 0.3810\n",
      "Epoch 15/40\n",
      "71/71 [==============================] - 1s 17ms/step - loss: 1.4937 - accuracy: 0.4614 - val_loss: 1.8449 - val_accuracy: 0.3680\n",
      "Epoch 16/40\n",
      "71/71 [==============================] - 1s 17ms/step - loss: 1.4759 - accuracy: 0.4698 - val_loss: 1.8300 - val_accuracy: 0.3870\n",
      "Epoch 17/40\n",
      "71/71 [==============================] - 1s 17ms/step - loss: 1.4447 - accuracy: 0.4798 - val_loss: 1.8334 - val_accuracy: 0.3980\n",
      "Epoch 18/40\n",
      "71/71 [==============================] - 1s 17ms/step - loss: 1.3784 - accuracy: 0.5046 - val_loss: 1.9060 - val_accuracy: 0.3640\n",
      "Epoch 19/40\n",
      "71/71 [==============================] - 1s 17ms/step - loss: 1.3418 - accuracy: 0.5158 - val_loss: 1.8712 - val_accuracy: 0.3710\n",
      "Epoch 20/40\n",
      "71/71 [==============================] - 1s 17ms/step - loss: 1.2972 - accuracy: 0.5390 - val_loss: 1.9055 - val_accuracy: 0.3780\n",
      "Epoch 21/40\n",
      "71/71 [==============================] - 1s 17ms/step - loss: 1.2704 - accuracy: 0.5478 - val_loss: 1.9351 - val_accuracy: 0.3750\n",
      "Epoch 22/40\n",
      "71/71 [==============================] - 1s 17ms/step - loss: 1.2248 - accuracy: 0.5607 - val_loss: 1.9820 - val_accuracy: 0.3870\n",
      "Epoch 23/40\n",
      "71/71 [==============================] - 1s 17ms/step - loss: 1.1715 - accuracy: 0.5780 - val_loss: 1.9296 - val_accuracy: 0.3860\n",
      "Epoch 24/40\n",
      "71/71 [==============================] - 1s 17ms/step - loss: 1.1323 - accuracy: 0.6003 - val_loss: 1.9917 - val_accuracy: 0.3820\n",
      "Epoch 25/40\n",
      "71/71 [==============================] - 1s 18ms/step - loss: 1.0535 - accuracy: 0.6276 - val_loss: 2.0438 - val_accuracy: 0.3780\n",
      "Epoch 26/40\n",
      "71/71 [==============================] - 1s 17ms/step - loss: 1.0257 - accuracy: 0.6327 - val_loss: 2.0811 - val_accuracy: 0.3730\n",
      "Epoch 27/40\n",
      "71/71 [==============================] - 1s 17ms/step - loss: 0.9849 - accuracy: 0.6466 - val_loss: 2.1723 - val_accuracy: 0.3820\n",
      "Epoch 28/40\n",
      "71/71 [==============================] - 1s 17ms/step - loss: 0.8973 - accuracy: 0.6809 - val_loss: 2.1821 - val_accuracy: 0.3800\n",
      "Epoch 29/40\n",
      "71/71 [==============================] - 1s 17ms/step - loss: 0.8443 - accuracy: 0.7031 - val_loss: 2.2685 - val_accuracy: 0.3800\n",
      "Epoch 30/40\n",
      "71/71 [==============================] - 1s 17ms/step - loss: 0.8206 - accuracy: 0.7142 - val_loss: 2.2724 - val_accuracy: 0.3720\n",
      "Epoch 31/40\n",
      "71/71 [==============================] - 1s 17ms/step - loss: 0.7340 - accuracy: 0.7423 - val_loss: 2.4237 - val_accuracy: 0.3660\n",
      "Epoch 32/40\n",
      "71/71 [==============================] - 1s 17ms/step - loss: 0.6803 - accuracy: 0.7610 - val_loss: 2.4890 - val_accuracy: 0.3880\n",
      "Epoch 33/40\n",
      "71/71 [==============================] - 1s 17ms/step - loss: 0.6433 - accuracy: 0.7764 - val_loss: 2.5520 - val_accuracy: 0.3700\n",
      "Epoch 34/40\n",
      "71/71 [==============================] - 1s 17ms/step - loss: 0.5978 - accuracy: 0.7947 - val_loss: 2.6165 - val_accuracy: 0.3830\n",
      "Epoch 35/40\n",
      "71/71 [==============================] - 1s 17ms/step - loss: 0.5623 - accuracy: 0.8061 - val_loss: 2.6683 - val_accuracy: 0.3770\n",
      "Epoch 36/40\n",
      "71/71 [==============================] - 1s 17ms/step - loss: 0.5012 - accuracy: 0.8276 - val_loss: 2.8728 - val_accuracy: 0.3680\n",
      "Epoch 37/40\n",
      "71/71 [==============================] - 1s 18ms/step - loss: 0.4953 - accuracy: 0.8283 - val_loss: 2.8871 - val_accuracy: 0.3750\n",
      "Epoch 38/40\n",
      "71/71 [==============================] - 1s 18ms/step - loss: 0.4295 - accuracy: 0.8543 - val_loss: 2.9273 - val_accuracy: 0.3850\n",
      "Epoch 39/40\n",
      "71/71 [==============================] - 1s 19ms/step - loss: 0.3748 - accuracy: 0.8750 - val_loss: 3.0567 - val_accuracy: 0.3780\n",
      "Epoch 40/40\n",
      "71/71 [==============================] - 1s 19ms/step - loss: 0.3482 - accuracy: 0.8837 - val_loss: 3.1271 - val_accuracy: 0.3720\n"
     ]
    }
   ],
   "source": [
    "history=model.fit(x,y_train,validation_split=0.1,batch_size=128,epochs=40)"
   ]
  },
  {
   "cell_type": "code",
   "execution_count": 53,
   "id": "5bf1f895",
   "metadata": {},
   "outputs": [
    {
     "data": {
      "image/png": "[encoded data removed]",
      "text/plain": [
       "<Figure size 432x288 with 1 Axes>"
      ]
     },
     "metadata": {
      "needs_background": "light"
     },
     "output_type": "display_data"
    }
   ],
   "source": [
    "plt.plot(history.history['loss'],'b-')\n",
    "plt.plot(history.history['val_loss'],'r-')\n",
    "plt.show()"
   ]
  },
  {
   "cell_type": "code",
   "execution_count": 54,
   "id": "df1252cc",
   "metadata": {},
   "outputs": [
    {
     "data": {
      "image/png": "[encoded data removed]",
      "text/plain": [
       "<Figure size 432x288 with 1 Axes>"
      ]
     },
     "metadata": {
      "needs_background": "light"
     },
     "output_type": "display_data"
    }
   ],
   "source": [
    "plt.plot(history.history['accuracy'],'b-')\n",
    "plt.plot(history.history['val_accuracy'],'r-')\n",
    "plt.show()"
   ]
  },
  {
   "cell_type": "code",
   "execution_count": 55,
   "id": "0a670d02",
   "metadata": {},
   "outputs": [
    {
     "name": "stdout",
     "output_type": "stream",
     "text": [
      "max acc of validation: 0.39800000190734863\n"
     ]
    }
   ],
   "source": [
    "print('max acc of validation:',max(history.history['val_accuracy']))"
   ]
  },
  {
   "cell_type": "code",
   "execution_count": 56,
   "id": "c2a2cd2a",
   "metadata": {},
   "outputs": [
    {
     "name": "stdout",
     "output_type": "stream",
     "text": [
      "max acc of trian: 0.8836666941642761\n"
     ]
    }
   ],
   "source": [
    "print('max acc of trian:',max(history.history['accuracy']))"
   ]
  },
  {
   "cell_type": "code",
   "execution_count": null,
   "id": "001202fb",
   "metadata": {},
   "outputs": [],
   "source": []
  }
 ],
 "metadata": {
  "kernelspec": {
   "display_name": "Python 3",
   "language": "python",
   "name": "python3"
  },
  "language_info": {
   "codemirror_mode": {
    "name": "ipython",
    "version": 3
   },
   "file_extension": ".py",
   "mimetype": "text/x-python",
   "name": "python",
   "nbconvert_exporter": "python",
   "pygments_lexer": "ipython3",
   "version": "3.8.8"
  }
 },
 "nbformat": 4,
 "nbformat_minor": 5
}
