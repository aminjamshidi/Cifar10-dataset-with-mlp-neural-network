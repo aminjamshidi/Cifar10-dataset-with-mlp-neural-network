{
 "cells": [
  {
   "cell_type": "markdown",
   "id": "0ac001e4",
   "metadata": {},
   "source": [
    "# setting number of layers\n"
   ]
  },
  {
   "cell_type": "code",
   "execution_count": 1,
   "id": "b39eb694",
   "metadata": {},
   "outputs": [],
   "source": [
    "import numpy as np\n",
    "import matplotlib.pyplot as plt\n",
    "import os\n",
    "from six.moves import cPickle\n",
    "import tensorflow as tf\n",
    "from tensorflow import keras\n",
    "from tensorflow.keras.models import Sequential\n",
    "from tensorflow.keras.layers import Activation,Dense\n",
    "from tensorflow.keras.optimizers import Adam\n",
    "from tensorflow.keras.utils import to_categorical\n",
    "%matplotlib inline"
   ]
  },
  {
   "cell_type": "markdown",
   "id": "fb5360d8",
   "metadata": {},
   "source": [
    "Definding function:"
   ]
  },
  {
   "cell_type": "code",
   "execution_count": 2,
   "id": "7a886698",
   "metadata": {},
   "outputs": [],
   "source": [
    "# this function give file of data  as numpy array or image\n",
    "\n",
    "def getImageData(filename):\n",
    "    f = open(filename,'rb')\n",
    "    datadict = cPickle.load(f,encoding='latin1') #Why the hell latin1 ???\n",
    "    f.close()\n",
    "    X=datadict['data'].reshape((len(datadict['data']), 3, 32, 32)).transpose(0, 2, 3, 1)\n",
    "    return X\n",
    "\n",
    "\n",
    "# this function give file of data  as dictionary\n",
    "\n",
    "\n",
    "def unpickle(file):\n",
    "    import pickle\n",
    "    with open(file, 'rb') as fo:\n",
    "        dict = pickle.load(fo, encoding='bytes')\n",
    "    return dict"
   ]
  },
  {
   "cell_type": "code",
   "execution_count": 173,
   "id": "8de13dbe",
   "metadata": {},
   "outputs": [
    {
     "name": "stdout",
     "output_type": "stream",
     "text": [
      "shape of input image: (10000, 32, 32, 3)\n",
      "#############################################\n",
      "[1. 0. 0. 0. 0. 0. 0. 0. 0. 0.]\n",
      "shape of target vector: (10000, 10)\n"
     ]
    },
    {
     "data": {
      "image/png": "[encoded data removed]",
      "text/plain": [
       "<Figure size 432x288 with 1 Axes>"
      ]
     },
     "metadata": {
      "needs_background": "light"
     },
     "output_type": "display_data"
    }
   ],
   "source": [
    "file='cifar-10-batches-py\\data_batch_3'\n",
    "\n",
    "X_image = getImageData(file)\n",
    "x=unpickle(file)\n",
    "\n",
    "\n",
    "print('shape of input image:',X_image.shape)\n",
    "print('#############################################')\n",
    "plt.imshow(X_image[35])\n",
    "\n",
    "\n",
    "#geting vector  of target of data:\n",
    "y=x[b'labels']\n",
    "y_train=to_categorical(y)\n",
    "print(y_train[35])\n",
    "print('shape of target vector:',y_train.shape)"
   ]
  },
  {
   "cell_type": "code",
   "execution_count": 174,
   "id": "9c9d2c95",
   "metadata": {},
   "outputs": [],
   "source": [
    "x_flatten=X_image.reshape(10000,-1)\n",
    "\n",
    "x_train=x_flatten/255"
   ]
  },
  {
   "cell_type": "markdown",
   "id": "01599dc2",
   "metadata": {},
   "source": [
    "# Constructing model:"
   ]
  },
  {
   "cell_type": "code",
   "execution_count": 175,
   "id": "53a8be5c",
   "metadata": {},
   "outputs": [
    {
     "name": "stdout",
     "output_type": "stream",
     "text": [
      "Model: \"sequential_25\"\n",
      "_________________________________________________________________\n",
      "Layer (type)                 Output Shape              Param #   \n",
      "=================================================================\n",
      "dense_97 (Dense)             (None, 1000)              3073000   \n",
      "_________________________________________________________________\n",
      "dense_98 (Dense)             (None, 1000)              1001000   \n",
      "_________________________________________________________________\n",
      "dense_99 (Dense)             (None, 500)               500500    \n",
      "_________________________________________________________________\n",
      "dense_100 (Dense)            (None, 10)                5010      \n",
      "=================================================================\n",
      "Total params: 4,579,510\n",
      "Trainable params: 4,579,510\n",
      "Non-trainable params: 0\n",
      "_________________________________________________________________\n"
     ]
    }
   ],
   "source": [
    "model=Sequential()\n",
    "\n",
    "\n",
    "model.add(Dense(1000,activation='relu',input_dim=3072))\n",
    "model.add(Dense(1000,activation='relu'))\n",
    "model.add(Dense(500,activation='relu'))\n",
    "model.add(Dense(10,activation='softmax'))\n",
    "model.summary()"
   ]
  },
  {
   "cell_type": "code",
   "execution_count": 176,
   "id": "c6fa7115",
   "metadata": {},
   "outputs": [],
   "source": [
    "model.compile(optimizer='Adam',loss='categorical_crossentropy',metrics=['accuracy'])"
   ]
  },
  {
   "cell_type": "code",
   "execution_count": 177,
   "id": "cce66980",
   "metadata": {},
   "outputs": [
    {
     "name": "stdout",
     "output_type": "stream",
     "text": [
      "Epoch 1/40\n",
      "71/71 [==============================] - 2s 22ms/step - loss: 2.2529 - accuracy: 0.2033 - val_loss: 1.9520 - val_accuracy: 0.2640\n",
      "Epoch 2/40\n",
      "71/71 [==============================] - 1s 19ms/step - loss: 1.8984 - accuracy: 0.3082 - val_loss: 1.8427 - val_accuracy: 0.3280\n",
      "Epoch 3/40\n",
      "71/71 [==============================] - 1s 20ms/step - loss: 1.7852 - accuracy: 0.3506 - val_loss: 1.8324 - val_accuracy: 0.3280\n",
      "Epoch 4/40\n",
      "71/71 [==============================] - 1s 19ms/step - loss: 1.7524 - accuracy: 0.3611 - val_loss: 1.7308 - val_accuracy: 0.3770\n",
      "Epoch 5/40\n",
      "71/71 [==============================] - 1s 18ms/step - loss: 1.6822 - accuracy: 0.3941 - val_loss: 1.8240 - val_accuracy: 0.3430\n",
      "Epoch 6/40\n",
      "71/71 [==============================] - 1s 19ms/step - loss: 1.6446 - accuracy: 0.4087 - val_loss: 1.7145 - val_accuracy: 0.3800\n",
      "Epoch 7/40\n",
      "71/71 [==============================] - 1s 19ms/step - loss: 1.5972 - accuracy: 0.4240 - val_loss: 1.7024 - val_accuracy: 0.3630\n",
      "Epoch 8/40\n",
      "71/71 [==============================] - 1s 19ms/step - loss: 1.5592 - accuracy: 0.4419 - val_loss: 1.6906 - val_accuracy: 0.3980\n",
      "Epoch 9/40\n",
      "71/71 [==============================] - 1s 19ms/step - loss: 1.5205 - accuracy: 0.4523 - val_loss: 1.6355 - val_accuracy: 0.4210\n",
      "Epoch 10/40\n",
      "71/71 [==============================] - 1s 19ms/step - loss: 1.4824 - accuracy: 0.4664 - val_loss: 1.7034 - val_accuracy: 0.3960\n",
      "Epoch 11/40\n",
      "71/71 [==============================] - 1s 19ms/step - loss: 1.4697 - accuracy: 0.4620 - val_loss: 1.6516 - val_accuracy: 0.3980\n",
      "Epoch 12/40\n",
      "71/71 [==============================] - 1s 19ms/step - loss: 1.4249 - accuracy: 0.4842 - val_loss: 1.6190 - val_accuracy: 0.4110\n",
      "Epoch 13/40\n",
      "71/71 [==============================] - 1s 19ms/step - loss: 1.3856 - accuracy: 0.4987 - val_loss: 1.6342 - val_accuracy: 0.4280\n",
      "Epoch 14/40\n",
      "71/71 [==============================] - 1s 19ms/step - loss: 1.3355 - accuracy: 0.5130 - val_loss: 1.6366 - val_accuracy: 0.4270\n",
      "Epoch 15/40\n",
      "71/71 [==============================] - 1s 20ms/step - loss: 1.3150 - accuracy: 0.5261 - val_loss: 1.6245 - val_accuracy: 0.4140\n",
      "Epoch 16/40\n",
      "71/71 [==============================] - 1s 19ms/step - loss: 1.2796 - accuracy: 0.5384 - val_loss: 1.6583 - val_accuracy: 0.4220\n",
      "Epoch 17/40\n",
      "71/71 [==============================] - 1s 19ms/step - loss: 1.2409 - accuracy: 0.5478 - val_loss: 1.6565 - val_accuracy: 0.4350\n",
      "Epoch 18/40\n",
      "71/71 [==============================] - 1s 20ms/step - loss: 1.2253 - accuracy: 0.5553 - val_loss: 1.6990 - val_accuracy: 0.4020\n",
      "Epoch 19/40\n",
      "71/71 [==============================] - 1s 20ms/step - loss: 1.1902 - accuracy: 0.5653 - val_loss: 1.7074 - val_accuracy: 0.4280\n",
      "Epoch 20/40\n",
      "71/71 [==============================] - 1s 20ms/step - loss: 1.1388 - accuracy: 0.5869 - val_loss: 1.7244 - val_accuracy: 0.4230\n",
      "Epoch 21/40\n",
      "71/71 [==============================] - 1s 21ms/step - loss: 1.0955 - accuracy: 0.6013 - val_loss: 1.7235 - val_accuracy: 0.4260\n",
      "Epoch 22/40\n",
      "71/71 [==============================] - 1s 19ms/step - loss: 1.0805 - accuracy: 0.6050 - val_loss: 1.7460 - val_accuracy: 0.4460\n",
      "Epoch 23/40\n",
      "71/71 [==============================] - 1s 19ms/step - loss: 1.0056 - accuracy: 0.6357 - val_loss: 1.7495 - val_accuracy: 0.4360\n",
      "Epoch 24/40\n",
      "71/71 [==============================] - 1s 20ms/step - loss: 0.9451 - accuracy: 0.6536 - val_loss: 1.8621 - val_accuracy: 0.4040\n",
      "Epoch 25/40\n",
      "71/71 [==============================] - 1s 19ms/step - loss: 0.9030 - accuracy: 0.6751 - val_loss: 1.8471 - val_accuracy: 0.4370\n",
      "Epoch 26/40\n",
      "71/71 [==============================] - 1s 21ms/step - loss: 0.8495 - accuracy: 0.6909 - val_loss: 1.9271 - val_accuracy: 0.4200\n",
      "Epoch 27/40\n",
      "71/71 [==============================] - 2s 24ms/step - loss: 0.7894 - accuracy: 0.7178 - val_loss: 2.0236 - val_accuracy: 0.4150\n",
      "Epoch 28/40\n",
      "71/71 [==============================] - 2s 27ms/step - loss: 0.7380 - accuracy: 0.7364 - val_loss: 2.0969 - val_accuracy: 0.4170\n",
      "Epoch 29/40\n",
      "71/71 [==============================] - 2s 26ms/step - loss: 0.6964 - accuracy: 0.7478 - val_loss: 2.0987 - val_accuracy: 0.4320\n",
      "Epoch 30/40\n",
      "71/71 [==============================] - 2s 26ms/step - loss: 0.6276 - accuracy: 0.7728 - val_loss: 2.2264 - val_accuracy: 0.4090\n",
      "Epoch 31/40\n",
      "71/71 [==============================] - 2s 27ms/step - loss: 0.6027 - accuracy: 0.7861 - val_loss: 2.2397 - val_accuracy: 0.4450\n",
      "Epoch 32/40\n",
      "71/71 [==============================] - 2s 28ms/step - loss: 0.5778 - accuracy: 0.7950 - val_loss: 2.2380 - val_accuracy: 0.4190\n",
      "Epoch 33/40\n",
      "71/71 [==============================] - 2s 27ms/step - loss: 0.5091 - accuracy: 0.8223 - val_loss: 2.3422 - val_accuracy: 0.4290\n",
      "Epoch 34/40\n",
      "71/71 [==============================] - 2s 26ms/step - loss: 0.4136 - accuracy: 0.8550 - val_loss: 2.4289 - val_accuracy: 0.4520\n",
      "Epoch 35/40\n",
      "71/71 [==============================] - 2s 26ms/step - loss: 0.4184 - accuracy: 0.8531 - val_loss: 2.4742 - val_accuracy: 0.4400\n",
      "Epoch 36/40\n",
      "71/71 [==============================] - 2s 25ms/step - loss: 0.3743 - accuracy: 0.8736 - val_loss: 2.6869 - val_accuracy: 0.4070\n",
      "Epoch 37/40\n",
      "71/71 [==============================] - 2s 26ms/step - loss: 0.3334 - accuracy: 0.8838 - val_loss: 2.8184 - val_accuracy: 0.4390\n",
      "Epoch 38/40\n",
      "71/71 [==============================] - 2s 26ms/step - loss: 0.2967 - accuracy: 0.9020 - val_loss: 2.8630 - val_accuracy: 0.4280\n",
      "Epoch 39/40\n",
      "71/71 [==============================] - 2s 25ms/step - loss: 0.2670 - accuracy: 0.9109 - val_loss: 2.9293 - val_accuracy: 0.4210\n",
      "Epoch 40/40\n",
      "71/71 [==============================] - 2s 25ms/step - loss: 0.2890 - accuracy: 0.8983 - val_loss: 2.9643 - val_accuracy: 0.4300\n"
     ]
    }
   ],
   "source": [
    "history=model.fit(x_train,y_train,validation_split=0.1,batch_size=128,epochs=40)"
   ]
  },
  {
   "cell_type": "code",
   "execution_count": 178,
   "id": "eae86575",
   "metadata": {},
   "outputs": [
    {
     "data": {
      "image/png": "[encoded data removed]",
      "text/plain": [
       "<Figure size 432x288 with 1 Axes>"
      ]
     },
     "metadata": {
      "needs_background": "light"
     },
     "output_type": "display_data"
    }
   ],
   "source": [
    "plt.plot(history.history['loss'],'b-')\n",
    "plt.plot(history.history['val_loss'],'r-')\n",
    "plt.show()"
   ]
  },
  {
   "cell_type": "code",
   "execution_count": 179,
   "id": "76d492b6",
   "metadata": {},
   "outputs": [
    {
     "data": {
      "image/png": "[encoded data removed]",
      "text/plain": [
       "<Figure size 432x288 with 1 Axes>"
      ]
     },
     "metadata": {
      "needs_background": "light"
     },
     "output_type": "display_data"
    }
   ],
   "source": [
    "plt.plot(history.history['accuracy'],'b-')\n",
    "plt.plot(history.history['val_accuracy'],'r-')\n",
    "plt.show()"
   ]
  },
  {
   "cell_type": "code",
   "execution_count": 180,
   "id": "6a2e65a8",
   "metadata": {},
   "outputs": [
    {
     "name": "stdout",
     "output_type": "stream",
     "text": [
      "max acc of validation: 0.4519999921321869\n"
     ]
    }
   ],
   "source": [
    "print('max acc of validation:',max(history.history['val_accuracy']))"
   ]
  },
  {
   "cell_type": "code",
   "execution_count": 181,
   "id": "82833783",
   "metadata": {},
   "outputs": [
    {
     "name": "stdout",
     "output_type": "stream",
     "text": [
      "max acc of trian: 0.9108889102935791\n"
     ]
    }
   ],
   "source": [
    "print('max acc of trian:',max(history.history['accuracy']))"
   ]
  },
  {
   "cell_type": "code",
   "execution_count": null,
   "id": "b7aa1666",
   "metadata": {},
   "outputs": [],
   "source": []
  }
 ],
 "metadata": {
  "kernelspec": {
   "display_name": "Python 3",
   "language": "python",
   "name": "python3"
  },
  "language_info": {
   "codemirror_mode": {
    "name": "ipython",
    "version": 3
   },
   "file_extension": ".py",
   "mimetype": "text/x-python",
   "name": "python",
   "nbconvert_exporter": "python",
   "pygments_lexer": "ipython3",
   "version": "3.8.8"
  }
 },
 "nbformat": 4,
 "nbformat_minor": 5
}
