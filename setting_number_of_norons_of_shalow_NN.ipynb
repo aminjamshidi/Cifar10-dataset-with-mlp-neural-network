{
 "cells": [
  {
   "cell_type": "markdown",
   "id": "8f01329f",
   "metadata": {},
   "source": [
    "# تعیین تعداد نورون شبکه تک لایه"
   ]
  },
  {
   "cell_type": "code",
   "execution_count": 1,
   "id": "13a60159",
   "metadata": {},
   "outputs": [],
   "source": [
    "import numpy as np\n",
    "import matplotlib.pyplot as plt\n",
    "import os\n",
    "from six.moves import cPickle\n",
    "import tensorflow as tf\n",
    "from tensorflow import keras\n",
    "from tensorflow.keras.models import Sequential\n",
    "from tensorflow.keras.layers import Activation,Dense\n",
    "from tensorflow.keras.optimizers import Adam\n",
    "from tensorflow.keras.utils import to_categorical\n",
    "%matplotlib inline "
   ]
  },
  {
   "cell_type": "markdown",
   "id": "9fd38dd9",
   "metadata": {},
   "source": [
    "Definding function:"
   ]
  },
  {
   "cell_type": "code",
   "execution_count": 2,
   "id": "16605283",
   "metadata": {},
   "outputs": [],
   "source": [
    "# this function give file of data  as numpy array or image\n",
    "\n",
    "def getImageData(filename):\n",
    "    f = open(filename,'rb')\n",
    "    datadict = cPickle.load(f,encoding='latin1') #Why the hell latin1 ???\n",
    "    f.close()\n",
    "    X=datadict['data'].reshape((len(datadict['data']), 3, 32, 32)).transpose(0, 2, 3, 1)\n",
    "    return X\n",
    "\n",
    "\n",
    "# this function give file of data  as dictionary\n",
    "\n",
    "\n",
    "def unpickle(file):\n",
    "    import pickle\n",
    "    with open(file, 'rb') as fo:\n",
    "        dict = pickle.load(fo, encoding='bytes')\n",
    "    return dict"
   ]
  },
  {
   "cell_type": "markdown",
   "id": "ad5d08db",
   "metadata": {},
   "source": [
    "laod one bacth of data and check it"
   ]
  },
  {
   "cell_type": "code",
   "execution_count": 67,
   "id": "2d52fe21",
   "metadata": {},
   "outputs": [
    {
     "name": "stdout",
     "output_type": "stream",
     "text": [
      "shape of input image: (10000, 32, 32, 3)\n",
      "#############################################\n",
      "[1. 0. 0. 0. 0. 0. 0. 0. 0. 0.]\n",
      "shape of target vector: (10000, 10)\n"
     ]
    },
    {
     "data": {
      "image/png": "[encoded data removed]",
      "text/plain": [
       "<Figure size 432x288 with 1 Axes>"
      ]
     },
     "metadata": {
      "needs_background": "light"
     },
     "output_type": "display_data"
    }
   ],
   "source": [
    "file='cifar-10-batches-py\\data_batch_3'\n",
    "\n",
    "X_image = getImageData(file)\n",
    "x=unpickle(file)\n",
    "\n",
    "\n",
    "print('shape of input image:',X_image.shape)\n",
    "print('#############################################')\n",
    "plt.imshow(X_image[35])\n",
    "\n",
    "\n",
    "#geting vector  of target of data:\n",
    "y=x[b'labels']\n",
    "y_train=to_categorical(y)\n",
    "print(y_train[35])\n",
    "print('shape of target vector:',y_train.shape)"
   ]
  },
  {
   "cell_type": "markdown",
   "id": "bd480df6",
   "metadata": {},
   "source": [
    "preprocess data: step one:"
   ]
  },
  {
   "cell_type": "code",
   "execution_count": 68,
   "id": "c7833e5b",
   "metadata": {},
   "outputs": [],
   "source": [
    "x_flatten=X_image.reshape(10000,-1)\n",
    "\n",
    "x_train=x_flatten/255"
   ]
  },
  {
   "cell_type": "markdown",
   "id": "fb8dede5",
   "metadata": {},
   "source": [
    "# Constructing model:"
   ]
  },
  {
   "cell_type": "markdown",
   "id": "016ee781",
   "metadata": {},
   "source": [
    "در این قسمت با تغییر تعداد لایه وسط که در حال حاضر برابر با 50 است آزمایش ها را انجام داده"
   ]
  },
  {
   "cell_type": "code",
   "execution_count": 76,
   "id": "b6452ea2",
   "metadata": {},
   "outputs": [
    {
     "name": "stdout",
     "output_type": "stream",
     "text": [
      "Model: \"sequential_8\"\n",
      "_________________________________________________________________\n",
      "Layer (type)                 Output Shape              Param #   \n",
      "=================================================================\n",
      "dense_16 (Dense)             (None, 500)               1536500   \n",
      "_________________________________________________________________\n",
      "dense_17 (Dense)             (None, 10)                5010      \n",
      "=================================================================\n",
      "Total params: 1,541,510\n",
      "Trainable params: 1,541,510\n",
      "Non-trainable params: 0\n",
      "_________________________________________________________________\n"
     ]
    }
   ],
   "source": [
    "\n",
    "\n",
    "model=Sequential()\n",
    "\n",
    "\n",
    "\n",
    "model.add(Dense(500,activation='relu',input_dim=3072))\n",
    "model.add(Dense(10,activation='softmax'))\n",
    "model.summary()"
   ]
  },
  {
   "cell_type": "code",
   "execution_count": 77,
   "id": "78bc080c",
   "metadata": {},
   "outputs": [],
   "source": [
    "model.compile(optimizer='Adam',loss='categorical_crossentropy',metrics=['accuracy'])"
   ]
  },
  {
   "cell_type": "code",
   "execution_count": 78,
   "id": "81029e4c",
   "metadata": {
    "scrolled": false
   },
   "outputs": [
    {
     "name": "stdout",
     "output_type": "stream",
     "text": [
      "Epoch 1/75\n",
      "71/71 [==============================] - 1s 8ms/step - loss: 2.2132 - accuracy: 0.2267 - val_loss: 1.9464 - val_accuracy: 0.3140\n",
      "Epoch 2/75\n",
      "71/71 [==============================] - 0s 7ms/step - loss: 1.8863 - accuracy: 0.3293 - val_loss: 1.8880 - val_accuracy: 0.3100\n",
      "Epoch 3/75\n",
      "71/71 [==============================] - 0s 6ms/step - loss: 1.8040 - accuracy: 0.3638 - val_loss: 1.9522 - val_accuracy: 0.3110\n",
      "Epoch 4/75\n",
      "71/71 [==============================] - 0s 7ms/step - loss: 1.7635 - accuracy: 0.3742 - val_loss: 1.8272 - val_accuracy: 0.3230\n",
      "Epoch 5/75\n",
      "71/71 [==============================] - 0s 7ms/step - loss: 1.7126 - accuracy: 0.3972 - val_loss: 1.7814 - val_accuracy: 0.3570\n",
      "Epoch 6/75\n",
      "71/71 [==============================] - 0s 7ms/step - loss: 1.6790 - accuracy: 0.4078 - val_loss: 1.7430 - val_accuracy: 0.3870\n",
      "Epoch 7/75\n",
      "71/71 [==============================] - 0s 7ms/step - loss: 1.6514 - accuracy: 0.4144 - val_loss: 1.7497 - val_accuracy: 0.3860\n",
      "Epoch 8/75\n",
      "71/71 [==============================] - 0s 7ms/step - loss: 1.6261 - accuracy: 0.4268 - val_loss: 1.6950 - val_accuracy: 0.4000\n",
      "Epoch 9/75\n",
      "71/71 [==============================] - 0s 6ms/step - loss: 1.5828 - accuracy: 0.4436 - val_loss: 1.6965 - val_accuracy: 0.4040\n",
      "Epoch 10/75\n",
      "71/71 [==============================] - 0s 6ms/step - loss: 1.5571 - accuracy: 0.4522 - val_loss: 1.6790 - val_accuracy: 0.4090\n",
      "Epoch 11/75\n",
      "71/71 [==============================] - 0s 6ms/step - loss: 1.5345 - accuracy: 0.4540 - val_loss: 1.6751 - val_accuracy: 0.4050\n",
      "Epoch 12/75\n",
      "71/71 [==============================] - 0s 6ms/step - loss: 1.5087 - accuracy: 0.4649 - val_loss: 1.6644 - val_accuracy: 0.4080\n",
      "Epoch 13/75\n",
      "71/71 [==============================] - 0s 6ms/step - loss: 1.4924 - accuracy: 0.4720 - val_loss: 1.6621 - val_accuracy: 0.4060\n",
      "Epoch 14/75\n",
      "71/71 [==============================] - 0s 6ms/step - loss: 1.4513 - accuracy: 0.4919 - val_loss: 1.6584 - val_accuracy: 0.4150\n",
      "Epoch 15/75\n",
      "71/71 [==============================] - 0s 7ms/step - loss: 1.4422 - accuracy: 0.4952 - val_loss: 1.6240 - val_accuracy: 0.4080\n",
      "Epoch 16/75\n",
      "71/71 [==============================] - 0s 7ms/step - loss: 1.4052 - accuracy: 0.5089 - val_loss: 1.7027 - val_accuracy: 0.3900\n",
      "Epoch 17/75\n",
      "71/71 [==============================] - 0s 7ms/step - loss: 1.3921 - accuracy: 0.5172 - val_loss: 1.6096 - val_accuracy: 0.4230\n",
      "Epoch 18/75\n",
      "71/71 [==============================] - 0s 6ms/step - loss: 1.3652 - accuracy: 0.5214 - val_loss: 1.6472 - val_accuracy: 0.4040\n",
      "Epoch 19/75\n",
      "71/71 [==============================] - 0s 6ms/step - loss: 1.3513 - accuracy: 0.5273 - val_loss: 1.6079 - val_accuracy: 0.4380\n",
      "Epoch 20/75\n",
      "71/71 [==============================] - 0s 6ms/step - loss: 1.3411 - accuracy: 0.5322 - val_loss: 1.6270 - val_accuracy: 0.4320\n",
      "Epoch 21/75\n",
      "71/71 [==============================] - 0s 6ms/step - loss: 1.3074 - accuracy: 0.5432 - val_loss: 1.6417 - val_accuracy: 0.4220\n",
      "Epoch 22/75\n",
      "71/71 [==============================] - 0s 6ms/step - loss: 1.2810 - accuracy: 0.5549 - val_loss: 1.6003 - val_accuracy: 0.4230\n",
      "Epoch 23/75\n",
      "71/71 [==============================] - 0s 6ms/step - loss: 1.2786 - accuracy: 0.5577 - val_loss: 1.6491 - val_accuracy: 0.4060\n",
      "Epoch 24/75\n",
      "71/71 [==============================] - 0s 6ms/step - loss: 1.2498 - accuracy: 0.5641 - val_loss: 1.6645 - val_accuracy: 0.4020\n",
      "Epoch 25/75\n",
      "71/71 [==============================] - 0s 6ms/step - loss: 1.2288 - accuracy: 0.5731 - val_loss: 1.5822 - val_accuracy: 0.4390\n",
      "Epoch 26/75\n",
      "71/71 [==============================] - 0s 7ms/step - loss: 1.1986 - accuracy: 0.5896 - val_loss: 1.6087 - val_accuracy: 0.4370\n",
      "Epoch 27/75\n",
      "71/71 [==============================] - 0s 7ms/step - loss: 1.1791 - accuracy: 0.5976 - val_loss: 1.6164 - val_accuracy: 0.4250\n",
      "Epoch 28/75\n",
      "71/71 [==============================] - 0s 7ms/step - loss: 1.1632 - accuracy: 0.6009 - val_loss: 1.5986 - val_accuracy: 0.4360\n",
      "Epoch 29/75\n",
      "71/71 [==============================] - 0s 7ms/step - loss: 1.1415 - accuracy: 0.6093 - val_loss: 1.6207 - val_accuracy: 0.4450\n",
      "Epoch 30/75\n",
      "71/71 [==============================] - 0s 7ms/step - loss: 1.1329 - accuracy: 0.6122 - val_loss: 1.6173 - val_accuracy: 0.4310\n",
      "Epoch 31/75\n",
      "71/71 [==============================] - 0s 7ms/step - loss: 1.1292 - accuracy: 0.6146 - val_loss: 1.6166 - val_accuracy: 0.4390\n",
      "Epoch 32/75\n",
      "71/71 [==============================] - 0s 7ms/step - loss: 1.0895 - accuracy: 0.6307 - val_loss: 1.6428 - val_accuracy: 0.4190\n",
      "Epoch 33/75\n",
      "71/71 [==============================] - 0s 7ms/step - loss: 1.0710 - accuracy: 0.6366 - val_loss: 1.6160 - val_accuracy: 0.4490\n",
      "Epoch 34/75\n",
      "71/71 [==============================] - 0s 6ms/step - loss: 1.0530 - accuracy: 0.6444 - val_loss: 1.6474 - val_accuracy: 0.4280\n",
      "Epoch 35/75\n",
      "71/71 [==============================] - 0s 6ms/step - loss: 1.0433 - accuracy: 0.6500 - val_loss: 1.6556 - val_accuracy: 0.4160\n",
      "Epoch 36/75\n",
      "71/71 [==============================] - 0s 7ms/step - loss: 1.0201 - accuracy: 0.6613 - val_loss: 1.5961 - val_accuracy: 0.4580\n",
      "Epoch 37/75\n",
      "71/71 [==============================] - 0s 6ms/step - loss: 1.0037 - accuracy: 0.6687 - val_loss: 1.6221 - val_accuracy: 0.4420\n",
      "Epoch 38/75\n",
      "71/71 [==============================] - 0s 7ms/step - loss: 0.9847 - accuracy: 0.6734 - val_loss: 1.6052 - val_accuracy: 0.4310\n",
      "Epoch 39/75\n",
      "71/71 [==============================] - 0s 7ms/step - loss: 0.9825 - accuracy: 0.6717 - val_loss: 1.6144 - val_accuracy: 0.4320\n",
      "Epoch 40/75\n",
      "71/71 [==============================] - 0s 7ms/step - loss: 0.9604 - accuracy: 0.6834 - val_loss: 1.6940 - val_accuracy: 0.4290\n",
      "Epoch 41/75\n",
      "71/71 [==============================] - 0s 7ms/step - loss: 0.9339 - accuracy: 0.6932 - val_loss: 1.6645 - val_accuracy: 0.4430\n",
      "Epoch 42/75\n",
      "71/71 [==============================] - 0s 7ms/step - loss: 0.9119 - accuracy: 0.7029 - val_loss: 1.6199 - val_accuracy: 0.4460\n",
      "Epoch 43/75\n",
      "71/71 [==============================] - 0s 6ms/step - loss: 0.8920 - accuracy: 0.7110 - val_loss: 1.6615 - val_accuracy: 0.4360\n",
      "Epoch 44/75\n",
      "71/71 [==============================] - 0s 7ms/step - loss: 0.8859 - accuracy: 0.7106 - val_loss: 1.6444 - val_accuracy: 0.4360\n",
      "Epoch 45/75\n",
      "71/71 [==============================] - 0s 7ms/step - loss: 0.8607 - accuracy: 0.7232 - val_loss: 1.6157 - val_accuracy: 0.4530\n",
      "Epoch 46/75\n",
      "71/71 [==============================] - 0s 7ms/step - loss: 0.8382 - accuracy: 0.7339 - val_loss: 1.7026 - val_accuracy: 0.4270\n",
      "Epoch 47/75\n",
      "71/71 [==============================] - 0s 7ms/step - loss: 0.8285 - accuracy: 0.7331 - val_loss: 1.6399 - val_accuracy: 0.4340\n",
      "Epoch 48/75\n",
      "71/71 [==============================] - 0s 7ms/step - loss: 0.7980 - accuracy: 0.7458 - val_loss: 1.7154 - val_accuracy: 0.4190\n",
      "Epoch 49/75\n",
      "71/71 [==============================] - 0s 7ms/step - loss: 0.8108 - accuracy: 0.7422 - val_loss: 1.7063 - val_accuracy: 0.4230\n",
      "Epoch 50/75\n",
      "71/71 [==============================] - 0s 7ms/step - loss: 0.7742 - accuracy: 0.7583 - val_loss: 1.6554 - val_accuracy: 0.4250\n",
      "Epoch 51/75\n",
      "71/71 [==============================] - 0s 7ms/step - loss: 0.7448 - accuracy: 0.7681 - val_loss: 1.6906 - val_accuracy: 0.4220\n",
      "Epoch 52/75\n",
      "71/71 [==============================] - 0s 6ms/step - loss: 0.7288 - accuracy: 0.7781 - val_loss: 1.7033 - val_accuracy: 0.4460\n",
      "Epoch 53/75\n",
      "71/71 [==============================] - 0s 7ms/step - loss: 0.6982 - accuracy: 0.7912 - val_loss: 1.6762 - val_accuracy: 0.4400\n",
      "Epoch 54/75\n",
      "71/71 [==============================] - 0s 6ms/step - loss: 0.6932 - accuracy: 0.7898 - val_loss: 1.7249 - val_accuracy: 0.4250\n",
      "Epoch 55/75\n",
      "71/71 [==============================] - 0s 7ms/step - loss: 0.6899 - accuracy: 0.7922 - val_loss: 1.7014 - val_accuracy: 0.4310\n",
      "Epoch 56/75\n",
      "71/71 [==============================] - 0s 6ms/step - loss: 0.6867 - accuracy: 0.7938 - val_loss: 1.6810 - val_accuracy: 0.4590\n",
      "Epoch 57/75\n",
      "71/71 [==============================] - 1s 7ms/step - loss: 0.6566 - accuracy: 0.8032 - val_loss: 1.6851 - val_accuracy: 0.4560\n",
      "Epoch 58/75\n",
      "71/71 [==============================] - 0s 6ms/step - loss: 0.6389 - accuracy: 0.8106 - val_loss: 1.7589 - val_accuracy: 0.4490\n",
      "Epoch 59/75\n"
     ]
    },
    {
     "name": "stdout",
     "output_type": "stream",
     "text": [
      "71/71 [==============================] - 0s 6ms/step - loss: 0.6322 - accuracy: 0.8102 - val_loss: 1.7041 - val_accuracy: 0.4410\n",
      "Epoch 60/75\n",
      "71/71 [==============================] - 0s 6ms/step - loss: 0.6136 - accuracy: 0.8211 - val_loss: 1.7296 - val_accuracy: 0.4440\n",
      "Epoch 61/75\n",
      "71/71 [==============================] - 0s 6ms/step - loss: 0.6039 - accuracy: 0.8273 - val_loss: 1.7590 - val_accuracy: 0.4400\n",
      "Epoch 62/75\n",
      "71/71 [==============================] - 0s 6ms/step - loss: 0.5788 - accuracy: 0.8330 - val_loss: 1.7765 - val_accuracy: 0.4330\n",
      "Epoch 63/75\n",
      "71/71 [==============================] - 0s 7ms/step - loss: 0.5736 - accuracy: 0.8350 - val_loss: 1.7163 - val_accuracy: 0.4520\n",
      "Epoch 64/75\n",
      "71/71 [==============================] - 0s 6ms/step - loss: 0.5416 - accuracy: 0.8508 - val_loss: 1.8127 - val_accuracy: 0.4330\n",
      "Epoch 65/75\n",
      "71/71 [==============================] - 0s 7ms/step - loss: 0.5348 - accuracy: 0.8521 - val_loss: 1.8144 - val_accuracy: 0.4340\n",
      "Epoch 66/75\n",
      "71/71 [==============================] - 0s 7ms/step - loss: 0.5280 - accuracy: 0.8529 - val_loss: 1.7659 - val_accuracy: 0.4300\n",
      "Epoch 67/75\n",
      "71/71 [==============================] - 0s 7ms/step - loss: 0.5055 - accuracy: 0.8682 - val_loss: 1.7607 - val_accuracy: 0.4300\n",
      "Epoch 68/75\n",
      "71/71 [==============================] - 0s 6ms/step - loss: 0.4960 - accuracy: 0.8636 - val_loss: 1.7688 - val_accuracy: 0.4370\n",
      "Epoch 69/75\n",
      "71/71 [==============================] - 0s 7ms/step - loss: 0.4714 - accuracy: 0.8797 - val_loss: 1.7824 - val_accuracy: 0.4190\n",
      "Epoch 70/75\n",
      "71/71 [==============================] - 0s 7ms/step - loss: 0.4675 - accuracy: 0.8778 - val_loss: 1.8459 - val_accuracy: 0.4240\n",
      "Epoch 71/75\n",
      "71/71 [==============================] - 0s 7ms/step - loss: 0.4786 - accuracy: 0.8664 - val_loss: 1.7557 - val_accuracy: 0.4370\n",
      "Epoch 72/75\n",
      "71/71 [==============================] - 0s 6ms/step - loss: 0.4541 - accuracy: 0.8774 - val_loss: 1.7701 - val_accuracy: 0.4610\n",
      "Epoch 73/75\n",
      "71/71 [==============================] - 0s 6ms/step - loss: 0.4241 - accuracy: 0.8947 - val_loss: 1.7742 - val_accuracy: 0.4500\n",
      "Epoch 74/75\n",
      "71/71 [==============================] - 0s 7ms/step - loss: 0.4222 - accuracy: 0.8918 - val_loss: 1.7862 - val_accuracy: 0.4610\n",
      "Epoch 75/75\n",
      "71/71 [==============================] - 0s 7ms/step - loss: 0.4090 - accuracy: 0.9006 - val_loss: 1.7992 - val_accuracy: 0.4460\n"
     ]
    }
   ],
   "source": [
    "history=model.fit(x_train,y_train,validation_split=0.1,batch_size=128,epochs=75)"
   ]
  },
  {
   "cell_type": "markdown",
   "id": "996f7006",
   "metadata": {},
   "source": [
    "Plotting learn curves:"
   ]
  },
  {
   "cell_type": "code",
   "execution_count": 72,
   "id": "0cc2df5b",
   "metadata": {},
   "outputs": [
    {
     "data": {
      "image/png": "[encoded data removed]",
      "text/plain": [
       "<Figure size 432x288 with 1 Axes>"
      ]
     },
     "metadata": {
      "needs_background": "light"
     },
     "output_type": "display_data"
    }
   ],
   "source": [
    "plt.plot(history.history['loss'],'b-')\n",
    "plt.plot(history.history['val_loss'],'r-')\n",
    "plt.show()"
   ]
  },
  {
   "cell_type": "code",
   "execution_count": 73,
   "id": "83a2e2af",
   "metadata": {},
   "outputs": [
    {
     "data": {
      "image/png": "[encoded data removed]",
      "text/plain": [
       "<Figure size 432x288 with 1 Axes>"
      ]
     },
     "metadata": {
      "needs_background": "light"
     },
     "output_type": "display_data"
    }
   ],
   "source": [
    "plt.plot(history.history['accuracy'],'b-')\n",
    "plt.plot(history.history['val_accuracy'],'r-')\n",
    "plt.show()"
   ]
  },
  {
   "cell_type": "code",
   "execution_count": 74,
   "id": "af1b847e",
   "metadata": {},
   "outputs": [
    {
     "name": "stdout",
     "output_type": "stream",
     "text": [
      "max acc of validation: 0.3919999897480011\n"
     ]
    }
   ],
   "source": [
    "print('max acc of validation:',max(history.history['val_accuracy']))"
   ]
  },
  {
   "cell_type": "code",
   "execution_count": 75,
   "id": "22887c14",
   "metadata": {},
   "outputs": [
    {
     "name": "stdout",
     "output_type": "stream",
     "text": [
      "max acc of trian: 0.6462222337722778\n"
     ]
    }
   ],
   "source": [
    "print('max acc of trian:',max(history.history['accuracy']))"
   ]
  },
  {
   "cell_type": "code",
   "execution_count": null,
   "id": "218f4e2c",
   "metadata": {},
   "outputs": [],
   "source": []
  }
 ],
 "metadata": {
  "kernelspec": {
   "display_name": "Python 3",
   "language": "python",
   "name": "python3"
  },
  "language_info": {
   "codemirror_mode": {
    "name": "ipython",
    "version": 3
   },
   "file_extension": ".py",
   "mimetype": "text/x-python",
   "name": "python",
   "nbconvert_exporter": "python",
   "pygments_lexer": "ipython3",
   "version": "3.8.8"
  }
 },
 "nbformat": 4,
 "nbformat_minor": 5
}
