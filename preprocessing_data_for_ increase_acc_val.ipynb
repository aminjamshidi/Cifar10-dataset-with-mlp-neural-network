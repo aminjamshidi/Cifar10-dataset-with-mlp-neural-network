{
 "cells": [
  {
   "cell_type": "markdown",
   "id": "314f533e",
   "metadata": {},
   "source": [
    "# preprocessing"
   ]
  },
  {
   "cell_type": "code",
   "execution_count": 2,
   "id": "2e289756",
   "metadata": {},
   "outputs": [],
   "source": [
    "import numpy as np\n",
    "import matplotlib.pyplot as plt\n",
    "import os\n",
    "from six.moves import cPickle\n",
    "import tensorflow as tf\n",
    "from tensorflow import keras\n",
    "from tensorflow.keras.models import Sequential\n",
    "from tensorflow.keras.layers import Activation,Dense\n",
    "from tensorflow.keras.optimizers import Adam\n",
    "from tensorflow.keras.utils import to_categorical\n",
    "%matplotlib inline"
   ]
  },
  {
   "cell_type": "markdown",
   "id": "3cf8118d",
   "metadata": {},
   "source": [
    "Definding function:"
   ]
  },
  {
   "cell_type": "code",
   "execution_count": 29,
   "id": "1487b923",
   "metadata": {},
   "outputs": [],
   "source": [
    "# this function give file of data  as numpy array or image\n",
    "\n",
    "def getImageData(filename):\n",
    "    f = open(filename,'rb')\n",
    "    datadict = cPickle.load(f,encoding='latin1') #Why the hell latin1 ???\n",
    "    f.close()\n",
    "    X=datadict['data'].reshape((len(datadict['data']), 3, 32, 32)).transpose(0, 2, 3, 1)\n",
    "    return X\n",
    "\n",
    "\n",
    "# this function give file of data  as dictionary\n",
    "\n",
    "\n",
    "def unpickle(file):\n",
    "    import pickle\n",
    "    with open(file, 'rb') as fo:\n",
    "        dict = pickle.load(fo, encoding='bytes')\n",
    "    return dict\n",
    "\n",
    "\n",
    "#for show image in flatten form\n",
    "def plotImage(X):\n",
    "    plt.figure(figsize=(3, 3))\n",
    "    plt.imshow(X.reshape(32,32,3))\n",
    "    plt.show()\n",
    "    plt.close()"
   ]
  },
  {
   "cell_type": "markdown",
   "id": "7ec84208",
   "metadata": {},
   "source": [
    "# laod data"
   ]
  },
  {
   "cell_type": "code",
   "execution_count": 31,
   "id": "3fcf9539",
   "metadata": {},
   "outputs": [
    {
     "name": "stdout",
     "output_type": "stream",
     "text": [
      "shape of input image: (10000, 32, 32, 3)\n",
      "#############################################\n",
      "[1. 0. 0. 0. 0. 0. 0. 0. 0. 0.]\n",
      "shape of target vector: (10000, 10)\n"
     ]
    },
    {
     "data": {
      "image/png": "[encoded data removed]",
      "text/plain": [
       "<Figure size 432x288 with 1 Axes>"
      ]
     },
     "metadata": {
      "needs_background": "light"
     },
     "output_type": "display_data"
    }
   ],
   "source": [
    "file='cifar-10-batches-py\\data_batch_1'\n",
    "\n",
    "X_image = getImageData(file)\n",
    "x=unpickle(file)\n",
    "\n",
    "\n",
    "print('shape of input image:',X_image.shape)\n",
    "print('#############################################')\n",
    "plt.imshow(X_image[35])\n",
    "\n",
    "\n",
    "#geting vector  of target of data:\n",
    "y=x[b'labels']\n",
    "y_train=to_categorical(y)\n",
    "print(y_train[35])\n",
    "print('shape of target vector:',y_train.shape)"
   ]
  },
  {
   "cell_type": "markdown",
   "id": "54884060",
   "metadata": {},
   "source": [
    "preprocessing---->PCA whitening"
   ]
  },
  {
   "cell_type": "code",
   "execution_count": 32,
   "id": "eca1c97b",
   "metadata": {},
   "outputs": [],
   "source": [
    "X = X_image.reshape(10000,-1)\n",
    "x_norm= X/255\n",
    "x_norm=x_norm-(x_norm.mean(axis=0))"
   ]
  },
  {
   "cell_type": "code",
   "execution_count": 33,
   "id": "17a9b1c0",
   "metadata": {},
   "outputs": [],
   "source": [
    "cov = np.cov(x_norm, rowvar=False)"
   ]
  },
  {
   "cell_type": "code",
   "execution_count": 34,
   "id": "65d79de6",
   "metadata": {},
   "outputs": [],
   "source": [
    "U,S,V = np.linalg.svd(cov)"
   ]
  },
  {
   "cell_type": "code",
   "execution_count": 35,
   "id": "0929c259",
   "metadata": {},
   "outputs": [],
   "source": [
    "epsilon = 0.1\n",
    "X_ZCA = U.dot(np.diag(1.0/np.sqrt(S + epsilon))).dot(U.T).dot(x_norm.T).T"
   ]
  },
  {
   "cell_type": "code",
   "execution_count": 36,
   "id": "f2394dce",
   "metadata": {},
   "outputs": [
    {
     "name": "stdout",
     "output_type": "stream",
     "text": [
      "min: 0.0\n",
      "max: 1.0\n"
     ]
    }
   ],
   "source": [
    "X_ZCA_rescaled = (X_ZCA - X_ZCA.min()) / (X_ZCA.max() - X_ZCA.min())\n",
    "\n",
    "print ('min:', X_ZCA_rescaled.min())\n",
    "print ('max:', X_ZCA_rescaled.max())"
   ]
  },
  {
   "cell_type": "code",
   "execution_count": 37,
   "id": "2ace4115",
   "metadata": {},
   "outputs": [
    {
     "data": {
      "image/png": "[encoded data removed]",
      "text/plain": [
       "<Figure size 216x216 with 1 Axes>"
      ]
     },
     "metadata": {
      "needs_background": "light"
     },
     "output_type": "display_data"
    }
   ],
   "source": [
    "plotImage(X_ZCA_rescaled[35, :])"
   ]
  },
  {
   "cell_type": "code",
   "execution_count": 38,
   "id": "1ac9a460",
   "metadata": {},
   "outputs": [
    {
     "data": {
      "text/plain": [
       "array([1., 0., 0., 0., 0., 0., 0., 0., 0., 0.], dtype=float32)"
      ]
     },
     "execution_count": 38,
     "metadata": {},
     "output_type": "execute_result"
    }
   ],
   "source": [
    "y_train[35]"
   ]
  },
  {
   "cell_type": "markdown",
   "id": "af4ebe9d",
   "metadata": {},
   "source": [
    "Constructing model:"
   ]
  },
  {
   "cell_type": "code",
   "execution_count": 39,
   "id": "8f016c2c",
   "metadata": {},
   "outputs": [
    {
     "name": "stdout",
     "output_type": "stream",
     "text": [
      "Model: \"sequential_1\"\n",
      "_________________________________________________________________\n",
      "Layer (type)                 Output Shape              Param #   \n",
      "=================================================================\n",
      "dense_4 (Dense)              (None, 1000)              3073000   \n",
      "_________________________________________________________________\n",
      "dense_5 (Dense)              (None, 1000)              1001000   \n",
      "_________________________________________________________________\n",
      "dense_6 (Dense)              (None, 500)               500500    \n",
      "_________________________________________________________________\n",
      "dense_7 (Dense)              (None, 10)                5010      \n",
      "=================================================================\n",
      "Total params: 4,579,510\n",
      "Trainable params: 4,579,510\n",
      "Non-trainable params: 0\n",
      "_________________________________________________________________\n"
     ]
    }
   ],
   "source": [
    "model=Sequential()\n",
    "\n",
    "\n",
    "model.add(Dense(1000,activation='relu',input_dim=3072))\n",
    "model.add(Dense(1000,activation='relu'))\n",
    "model.add(Dense(500,activation='relu'))\n",
    "model.add(Dense(10,activation='softmax'))\n",
    "model.summary()"
   ]
  },
  {
   "cell_type": "code",
   "execution_count": 40,
   "id": "a3ed1f26",
   "metadata": {},
   "outputs": [],
   "source": [
    "model.compile(optimizer='Adam',loss='categorical_crossentropy',metrics=['accuracy'])"
   ]
  },
  {
   "cell_type": "code",
   "execution_count": 41,
   "id": "b8fd8396",
   "metadata": {},
   "outputs": [
    {
     "name": "stdout",
     "output_type": "stream",
     "text": [
      "Epoch 1/40\n",
      "71/71 [==============================] - 1s 21ms/step - loss: 1.8728 - accuracy: 0.3317 - val_loss: 1.6627 - val_accuracy: 0.4020\n",
      "Epoch 2/40\n",
      "71/71 [==============================] - 1s 19ms/step - loss: 1.1734 - accuracy: 0.5888 - val_loss: 1.7199 - val_accuracy: 0.4260\n",
      "Epoch 3/40\n",
      "71/71 [==============================] - 1s 19ms/step - loss: 0.6199 - accuracy: 0.7894 - val_loss: 2.0908 - val_accuracy: 0.3940\n",
      "Epoch 4/40\n",
      "71/71 [==============================] - 1s 19ms/step - loss: 0.3101 - accuracy: 0.8930 - val_loss: 2.4213 - val_accuracy: 0.4030\n",
      "Epoch 5/40\n",
      "71/71 [==============================] - 1s 19ms/step - loss: 0.1913 - accuracy: 0.9347 - val_loss: 2.8113 - val_accuracy: 0.4130\n",
      "Epoch 6/40\n",
      "71/71 [==============================] - 1s 20ms/step - loss: 0.1465 - accuracy: 0.9504 - val_loss: 3.1673 - val_accuracy: 0.4080\n",
      "Epoch 7/40\n",
      "71/71 [==============================] - 1s 19ms/step - loss: 0.1484 - accuracy: 0.9520 - val_loss: 3.2649 - val_accuracy: 0.3970\n",
      "Epoch 8/40\n",
      "71/71 [==============================] - 2s 22ms/step - loss: 0.0706 - accuracy: 0.9759 - val_loss: 3.6002 - val_accuracy: 0.4150\n",
      "Epoch 9/40\n",
      "71/71 [==============================] - 1s 19ms/step - loss: 0.0588 - accuracy: 0.9820 - val_loss: 4.0862 - val_accuracy: 0.3860\n",
      "Epoch 10/40\n",
      "71/71 [==============================] - 1s 20ms/step - loss: 0.0755 - accuracy: 0.9761 - val_loss: 3.8440 - val_accuracy: 0.4130\n",
      "Epoch 11/40\n",
      "71/71 [==============================] - 1s 20ms/step - loss: 0.0794 - accuracy: 0.9767 - val_loss: 3.8817 - val_accuracy: 0.3870\n",
      "Epoch 12/40\n",
      "71/71 [==============================] - 1s 21ms/step - loss: 0.0688 - accuracy: 0.9770 - val_loss: 3.9640 - val_accuracy: 0.4010\n",
      "Epoch 13/40\n",
      "71/71 [==============================] - 1s 19ms/step - loss: 0.0732 - accuracy: 0.9762 - val_loss: 3.7741 - val_accuracy: 0.4100\n",
      "Epoch 14/40\n",
      "71/71 [==============================] - 1s 19ms/step - loss: 0.0632 - accuracy: 0.9794 - val_loss: 3.8072 - val_accuracy: 0.4100\n",
      "Epoch 15/40\n",
      "71/71 [==============================] - 1s 19ms/step - loss: 0.0619 - accuracy: 0.9806 - val_loss: 4.2338 - val_accuracy: 0.3810\n",
      "Epoch 16/40\n",
      "71/71 [==============================] - 1s 19ms/step - loss: 0.0506 - accuracy: 0.9822 - val_loss: 4.3889 - val_accuracy: 0.4120\n",
      "Epoch 17/40\n",
      "71/71 [==============================] - 1s 19ms/step - loss: 0.0678 - accuracy: 0.9790 - val_loss: 4.1660 - val_accuracy: 0.3960\n",
      "Epoch 18/40\n",
      "71/71 [==============================] - 1s 20ms/step - loss: 0.0554 - accuracy: 0.9811 - val_loss: 4.3436 - val_accuracy: 0.4130\n",
      "Epoch 19/40\n",
      "71/71 [==============================] - 1s 21ms/step - loss: 0.0516 - accuracy: 0.9839 - val_loss: 4.4593 - val_accuracy: 0.4260\n",
      "Epoch 20/40\n",
      "71/71 [==============================] - 1s 19ms/step - loss: 0.0364 - accuracy: 0.9887 - val_loss: 4.6549 - val_accuracy: 0.3970\n",
      "Epoch 21/40\n",
      "71/71 [==============================] - 1s 20ms/step - loss: 0.0365 - accuracy: 0.9889 - val_loss: 4.5748 - val_accuracy: 0.4020\n",
      "Epoch 22/40\n",
      "71/71 [==============================] - 1s 20ms/step - loss: 0.0303 - accuracy: 0.9899 - val_loss: 4.8719 - val_accuracy: 0.3970\n",
      "Epoch 23/40\n",
      "71/71 [==============================] - 1s 21ms/step - loss: 0.0476 - accuracy: 0.9837 - val_loss: 5.0298 - val_accuracy: 0.4220\n",
      "Epoch 24/40\n",
      "71/71 [==============================] - 2s 27ms/step - loss: 0.0610 - accuracy: 0.9817 - val_loss: 4.9056 - val_accuracy: 0.3860\n",
      "Epoch 25/40\n",
      "71/71 [==============================] - 2s 29ms/step - loss: 0.0553 - accuracy: 0.9829 - val_loss: 4.5719 - val_accuracy: 0.4060\n",
      "Epoch 26/40\n",
      "71/71 [==============================] - 2s 27ms/step - loss: 0.0455 - accuracy: 0.9853 - val_loss: 4.8682 - val_accuracy: 0.3930\n",
      "Epoch 27/40\n",
      "71/71 [==============================] - 2s 29ms/step - loss: 0.0416 - accuracy: 0.9868 - val_loss: 4.6027 - val_accuracy: 0.3940\n",
      "Epoch 28/40\n",
      "71/71 [==============================] - 2s 26ms/step - loss: 0.0466 - accuracy: 0.9850 - val_loss: 5.0268 - val_accuracy: 0.4100\n",
      "Epoch 29/40\n",
      "71/71 [==============================] - 2s 28ms/step - loss: 0.0550 - accuracy: 0.9856 - val_loss: 4.9705 - val_accuracy: 0.4040\n",
      "Epoch 30/40\n",
      "71/71 [==============================] - 2s 26ms/step - loss: 0.0491 - accuracy: 0.9840 - val_loss: 4.7359 - val_accuracy: 0.3840\n",
      "Epoch 31/40\n",
      "71/71 [==============================] - 2s 27ms/step - loss: 0.0442 - accuracy: 0.9863 - val_loss: 4.7077 - val_accuracy: 0.4090\n",
      "Epoch 32/40\n",
      "71/71 [==============================] - 2s 29ms/step - loss: 0.0186 - accuracy: 0.9946 - val_loss: 4.9928 - val_accuracy: 0.4130\n",
      "Epoch 33/40\n",
      "71/71 [==============================] - 2s 27ms/step - loss: 0.0088 - accuracy: 0.9969 - val_loss: 5.1209 - val_accuracy: 0.4060\n",
      "Epoch 34/40\n",
      "71/71 [==============================] - 2s 27ms/step - loss: 0.0046 - accuracy: 0.9987 - val_loss: 5.0147 - val_accuracy: 0.4220\n",
      "Epoch 35/40\n",
      "71/71 [==============================] - 2s 26ms/step - loss: 0.0046 - accuracy: 0.9984 - val_loss: 5.3595 - val_accuracy: 0.4320\n",
      "Epoch 36/40\n",
      "71/71 [==============================] - 2s 26ms/step - loss: 0.0035 - accuracy: 0.9994 - val_loss: 5.6575 - val_accuracy: 0.4100\n",
      "Epoch 37/40\n",
      "71/71 [==============================] - 2s 27ms/step - loss: 0.0071 - accuracy: 0.9982 - val_loss: 5.9178 - val_accuracy: 0.4050\n",
      "Epoch 38/40\n",
      "71/71 [==============================] - 2s 27ms/step - loss: 0.0075 - accuracy: 0.9977 - val_loss: 5.8796 - val_accuracy: 0.4050\n",
      "Epoch 39/40\n",
      "71/71 [==============================] - 2s 27ms/step - loss: 0.0411 - accuracy: 0.9880 - val_loss: 5.5513 - val_accuracy: 0.4020\n",
      "Epoch 40/40\n",
      "71/71 [==============================] - 2s 28ms/step - loss: 0.0863 - accuracy: 0.9759 - val_loss: 4.6884 - val_accuracy: 0.3910\n"
     ]
    }
   ],
   "source": [
    "history=model.fit(X_ZCA,y_train,validation_split=0.1,batch_size=128,epochs=40)"
   ]
  },
  {
   "cell_type": "code",
   "execution_count": 42,
   "id": "5f2bd23e",
   "metadata": {},
   "outputs": [
    {
     "data": {
      "image/png": "[encoded data removed]",
      "text/plain": [
       "<Figure size 432x288 with 1 Axes>"
      ]
     },
     "metadata": {
      "needs_background": "light"
     },
     "output_type": "display_data"
    }
   ],
   "source": [
    "plt.plot(history.history['loss'],'b-')\n",
    "plt.plot(history.history['val_loss'],'r-')\n",
    "plt.show()"
   ]
  },
  {
   "cell_type": "code",
   "execution_count": 43,
   "id": "743b90aa",
   "metadata": {},
   "outputs": [
    {
     "data": {
      "image/png": "[encoded data removed]",
      "text/plain": [
       "<Figure size 432x288 with 1 Axes>"
      ]
     },
     "metadata": {
      "needs_background": "light"
     },
     "output_type": "display_data"
    }
   ],
   "source": [
    "plt.plot(history.history['accuracy'],'b-')\n",
    "plt.plot(history.history['val_accuracy'],'r-')\n",
    "plt.show()"
   ]
  },
  {
   "cell_type": "code",
   "execution_count": 44,
   "id": "d6362b09",
   "metadata": {},
   "outputs": [
    {
     "name": "stdout",
     "output_type": "stream",
     "text": [
      "max acc of validation: 0.4320000112056732\n"
     ]
    }
   ],
   "source": [
    "print('max acc of validation:',max(history.history['val_accuracy']))"
   ]
  },
  {
   "cell_type": "code",
   "execution_count": 45,
   "id": "5cc41e7f",
   "metadata": {},
   "outputs": [
    {
     "name": "stdout",
     "output_type": "stream",
     "text": [
      "max acc of trian: 0.9994444251060486\n"
     ]
    }
   ],
   "source": [
    "print('max acc of trian:',max(history.history['accuracy']))"
   ]
  },
  {
   "cell_type": "code",
   "execution_count": null,
   "id": "afec2d95",
   "metadata": {},
   "outputs": [],
   "source": []
  }
 ],
 "metadata": {
  "kernelspec": {
   "display_name": "Python 3",
   "language": "python",
   "name": "python3"
  },
  "language_info": {
   "codemirror_mode": {
    "name": "ipython",
    "version": 3
   },
   "file_extension": ".py",
   "mimetype": "text/x-python",
   "name": "python",
   "nbconvert_exporter": "python",
   "pygments_lexer": "ipython3",
   "version": "3.8.8"
  }
 },
 "nbformat": 4,
 "nbformat_minor": 5
}
