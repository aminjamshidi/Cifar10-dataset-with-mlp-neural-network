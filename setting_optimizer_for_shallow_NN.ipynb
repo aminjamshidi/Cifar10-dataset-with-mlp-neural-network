{
 "cells": [
  {
   "cell_type": "markdown",
   "id": "31c9dacc",
   "metadata": {},
   "source": [
    "# setting  optimizer and learning rate"
   ]
  },
  {
   "cell_type": "code",
   "execution_count": 114,
   "id": "b0c56098",
   "metadata": {},
   "outputs": [],
   "source": [
    "import numpy as np\n",
    "import matplotlib.pyplot as plt\n",
    "import os\n",
    "from six.moves import cPickle\n",
    "import tensorflow as tf\n",
    "from tensorflow import keras\n",
    "from tensorflow.keras.models import Sequential\n",
    "from tensorflow.keras.layers import Activation,Dense\n",
    "from tensorflow.keras.optimizers import Adam,Adadelta,Adagrad,RMSprop\n",
    "from tensorflow.keras.utils import to_categorical\n",
    "%matplotlib inline"
   ]
  },
  {
   "cell_type": "markdown",
   "id": "95626af8",
   "metadata": {},
   "source": [
    "Definding function:"
   ]
  },
  {
   "cell_type": "code",
   "execution_count": 115,
   "id": "93dd4410",
   "metadata": {},
   "outputs": [],
   "source": [
    "# this function give file of data  as numpy array or image\n",
    "\n",
    "def getImageData(filename):\n",
    "    f = open(filename,'rb')\n",
    "    datadict = cPickle.load(f,encoding='latin1') #Why the hell latin1 ???\n",
    "    f.close()\n",
    "    X=datadict['data'].reshape((len(datadict['data']), 3, 32, 32)).transpose(0, 2, 3, 1)\n",
    "    return X\n",
    "\n",
    "\n",
    "# this function give file of data  as dictionary\n",
    "\n",
    "\n",
    "def unpickle(file):\n",
    "    import pickle\n",
    "    with open(file, 'rb') as fo:\n",
    "        dict = pickle.load(fo, encoding='bytes')\n",
    "    return dict"
   ]
  },
  {
   "cell_type": "code",
   "execution_count": 167,
   "id": "4233b458",
   "metadata": {},
   "outputs": [
    {
     "name": "stdout",
     "output_type": "stream",
     "text": [
      "shape of input image: (10000, 32, 32, 3)\n",
      "#############################################\n",
      "[1. 0. 0. 0. 0. 0. 0. 0. 0. 0.]\n",
      "shape of target vector: (10000, 10)\n"
     ]
    },
    {
     "data": {
      "image/png": "[encoded data removed]",
      "text/plain": [
       "<Figure size 432x288 with 1 Axes>"
      ]
     },
     "metadata": {
      "needs_background": "light"
     },
     "output_type": "display_data"
    }
   ],
   "source": [
    "file='cifar-10-batches-py\\data_batch_3'\n",
    "\n",
    "X_image = getImageData(file)\n",
    "x=unpickle(file)\n",
    "\n",
    "\n",
    "print('shape of input image:',X_image.shape)\n",
    "print('#############################################')\n",
    "plt.imshow(X_image[35])\n",
    "\n",
    "\n",
    "#geting vector  of target of data:\n",
    "y=x[b'labels']\n",
    "y_train=to_categorical(y)\n",
    "print(y_train[35])\n",
    "print('shape of target vector:',y_train.shape)"
   ]
  },
  {
   "cell_type": "code",
   "execution_count": 168,
   "id": "d680f852",
   "metadata": {},
   "outputs": [],
   "source": [
    "x_flatten=X_image.reshape(10000,-1)\n",
    "\n",
    "x_train=x_flatten/255"
   ]
  },
  {
   "cell_type": "markdown",
   "id": "266ada6c",
   "metadata": {},
   "source": [
    "# Constructing model:"
   ]
  },
  {
   "cell_type": "markdown",
   "id": "a18cf50d",
   "metadata": {},
   "source": [
    "در این قسمت با تغییر اپتیمایزر ها و آلفا به بهترین انتخاب می رسیم"
   ]
  },
  {
   "cell_type": "code",
   "execution_count": 169,
   "id": "6fbcad79",
   "metadata": {},
   "outputs": [
    {
     "name": "stdout",
     "output_type": "stream",
     "text": [
      "Model: \"sequential_20\"\n",
      "_________________________________________________________________\n",
      "Layer (type)                 Output Shape              Param #   \n",
      "=================================================================\n",
      "dense_40 (Dense)             (None, 500)               1536500   \n",
      "_________________________________________________________________\n",
      "dense_41 (Dense)             (None, 10)                5010      \n",
      "=================================================================\n",
      "Total params: 1,541,510\n",
      "Trainable params: 1,541,510\n",
      "Non-trainable params: 0\n",
      "_________________________________________________________________\n"
     ]
    }
   ],
   "source": [
    "model=Sequential()\n",
    "\n",
    "\n",
    "model.add(Dense(500,activation='relu',input_dim=3072))\n",
    "model.add(Dense(10,activation='softmax'))\n",
    "model.summary()"
   ]
  },
  {
   "cell_type": "code",
   "execution_count": 170,
   "id": "ce63ba97",
   "metadata": {},
   "outputs": [],
   "source": [
    "model.compile(optimizer=Adam(learning_rate=0.1),loss='categorical_crossentropy',metrics=['accuracy'])"
   ]
  },
  {
   "cell_type": "code",
   "execution_count": 171,
   "id": "66f87bca",
   "metadata": {},
   "outputs": [
    {
     "name": "stdout",
     "output_type": "stream",
     "text": [
      "Epoch 1/70\n",
      "71/71 [==============================] - 1s 8ms/step - loss: 138.1770 - accuracy: 0.1021 - val_loss: 2.3319 - val_accuracy: 0.1050\n",
      "Epoch 2/70\n",
      "71/71 [==============================] - 0s 7ms/step - loss: 2.6292 - accuracy: 0.0974 - val_loss: 2.3045 - val_accuracy: 0.1030\n",
      "Epoch 3/70\n",
      "71/71 [==============================] - 0s 6ms/step - loss: 2.3041 - accuracy: 0.1000 - val_loss: 2.3031 - val_accuracy: 0.0990\n",
      "Epoch 4/70\n",
      "71/71 [==============================] - 0s 6ms/step - loss: 2.3044 - accuracy: 0.1024 - val_loss: 2.3050 - val_accuracy: 0.1040\n",
      "Epoch 5/70\n",
      "71/71 [==============================] - 0s 6ms/step - loss: 2.3048 - accuracy: 0.0969 - val_loss: 2.3064 - val_accuracy: 0.0950\n",
      "Epoch 6/70\n",
      "71/71 [==============================] - 0s 6ms/step - loss: 2.3046 - accuracy: 0.1031 - val_loss: 2.3051 - val_accuracy: 0.0980\n",
      "Epoch 7/70\n",
      "71/71 [==============================] - 0s 6ms/step - loss: 2.3069 - accuracy: 0.1003 - val_loss: 2.3053 - val_accuracy: 0.0990\n",
      "Epoch 8/70\n",
      "71/71 [==============================] - 0s 6ms/step - loss: 2.3059 - accuracy: 0.1019 - val_loss: 2.3061 - val_accuracy: 0.1040\n",
      "Epoch 9/70\n",
      "71/71 [==============================] - 0s 7ms/step - loss: 2.3068 - accuracy: 0.0981 - val_loss: 2.3074 - val_accuracy: 0.0870\n",
      "Epoch 10/70\n",
      "71/71 [==============================] - 0s 7ms/step - loss: 2.3049 - accuracy: 0.1026 - val_loss: 2.3047 - val_accuracy: 0.1040\n",
      "Epoch 11/70\n",
      "71/71 [==============================] - 0s 6ms/step - loss: 2.3067 - accuracy: 0.0969 - val_loss: 2.3122 - val_accuracy: 0.1040\n",
      "Epoch 12/70\n",
      "71/71 [==============================] - 0s 6ms/step - loss: 2.3064 - accuracy: 0.0998 - val_loss: 2.3046 - val_accuracy: 0.1150\n",
      "Epoch 13/70\n",
      "71/71 [==============================] - 0s 6ms/step - loss: 2.3079 - accuracy: 0.0950 - val_loss: 2.3116 - val_accuracy: 0.1030\n",
      "Epoch 14/70\n",
      "71/71 [==============================] - 0s 7ms/step - loss: 2.3067 - accuracy: 0.0998 - val_loss: 2.3076 - val_accuracy: 0.0980\n",
      "Epoch 15/70\n",
      "71/71 [==============================] - 0s 6ms/step - loss: 2.3075 - accuracy: 0.0966 - val_loss: 2.3020 - val_accuracy: 0.1150\n",
      "Epoch 16/70\n",
      "71/71 [==============================] - 0s 6ms/step - loss: 2.3060 - accuracy: 0.0966 - val_loss: 2.3071 - val_accuracy: 0.0940\n",
      "Epoch 17/70\n",
      "71/71 [==============================] - 0s 7ms/step - loss: 2.3072 - accuracy: 0.1033 - val_loss: 2.3095 - val_accuracy: 0.1030\n",
      "Epoch 18/70\n",
      "71/71 [==============================] - 0s 7ms/step - loss: 2.3071 - accuracy: 0.1033 - val_loss: 2.3050 - val_accuracy: 0.1150\n",
      "Epoch 19/70\n",
      "71/71 [==============================] - 0s 6ms/step - loss: 2.3069 - accuracy: 0.0997 - val_loss: 2.3050 - val_accuracy: 0.1020\n",
      "Epoch 20/70\n",
      "71/71 [==============================] - 0s 6ms/step - loss: 2.3069 - accuracy: 0.0964 - val_loss: 2.3068 - val_accuracy: 0.1150\n",
      "Epoch 21/70\n",
      "71/71 [==============================] - 0s 6ms/step - loss: 2.3096 - accuracy: 0.0947 - val_loss: 2.3047 - val_accuracy: 0.0990\n",
      "Epoch 22/70\n",
      "71/71 [==============================] - 0s 6ms/step - loss: 2.3061 - accuracy: 0.1038 - val_loss: 2.3093 - val_accuracy: 0.1030\n",
      "Epoch 23/70\n",
      "71/71 [==============================] - 0s 6ms/step - loss: 2.3078 - accuracy: 0.1007 - val_loss: 2.3103 - val_accuracy: 0.0870\n",
      "Epoch 24/70\n",
      "71/71 [==============================] - 0s 6ms/step - loss: 2.3076 - accuracy: 0.0999 - val_loss: 2.3060 - val_accuracy: 0.0870\n",
      "Epoch 25/70\n",
      "71/71 [==============================] - 0s 6ms/step - loss: 2.3073 - accuracy: 0.0953 - val_loss: 2.3044 - val_accuracy: 0.1040\n",
      "Epoch 26/70\n",
      "71/71 [==============================] - 0s 6ms/step - loss: 2.3079 - accuracy: 0.0984 - val_loss: 2.3082 - val_accuracy: 0.0940\n",
      "Epoch 27/70\n",
      "71/71 [==============================] - 0s 6ms/step - loss: 2.3076 - accuracy: 0.1036 - val_loss: 2.3044 - val_accuracy: 0.1020\n",
      "Epoch 28/70\n",
      "71/71 [==============================] - 0s 6ms/step - loss: 2.3078 - accuracy: 0.0968 - val_loss: 2.3087 - val_accuracy: 0.1030\n",
      "Epoch 29/70\n",
      "71/71 [==============================] - 0s 6ms/step - loss: 2.3077 - accuracy: 0.1009 - val_loss: 2.3068 - val_accuracy: 0.0980\n",
      "Epoch 30/70\n",
      "71/71 [==============================] - 0s 7ms/step - loss: 2.3081 - accuracy: 0.0973 - val_loss: 2.3035 - val_accuracy: 0.0980\n",
      "Epoch 31/70\n",
      "71/71 [==============================] - 0s 7ms/step - loss: 2.3070 - accuracy: 0.0973 - val_loss: 2.3076 - val_accuracy: 0.0990\n",
      "Epoch 32/70\n",
      "71/71 [==============================] - 0s 7ms/step - loss: 2.3062 - accuracy: 0.1032 - val_loss: 2.3094 - val_accuracy: 0.1040\n",
      "Epoch 33/70\n",
      "71/71 [==============================] - 0s 6ms/step - loss: 2.3089 - accuracy: 0.1024 - val_loss: 2.3021 - val_accuracy: 0.1150\n",
      "Epoch 34/70\n",
      "71/71 [==============================] - 0s 7ms/step - loss: 2.3059 - accuracy: 0.0967 - val_loss: 2.3111 - val_accuracy: 0.1040\n",
      "Epoch 35/70\n",
      "71/71 [==============================] - 0s 7ms/step - loss: 2.3097 - accuracy: 0.1009 - val_loss: 2.3071 - val_accuracy: 0.1040\n",
      "Epoch 36/70\n",
      "71/71 [==============================] - 0s 6ms/step - loss: 2.3093 - accuracy: 0.1009 - val_loss: 2.3096 - val_accuracy: 0.1020\n",
      "Epoch 37/70\n",
      "71/71 [==============================] - 0s 7ms/step - loss: 2.3076 - accuracy: 0.0949 - val_loss: 2.3056 - val_accuracy: 0.0870\n",
      "Epoch 38/70\n",
      "71/71 [==============================] - 0s 7ms/step - loss: 2.3061 - accuracy: 0.0993 - val_loss: 2.3089 - val_accuracy: 0.0990\n",
      "Epoch 39/70\n",
      "71/71 [==============================] - 0s 7ms/step - loss: 2.3093 - accuracy: 0.0972 - val_loss: 2.3137 - val_accuracy: 0.0940\n",
      "Epoch 40/70\n",
      "71/71 [==============================] - 0s 7ms/step - loss: 2.3119 - accuracy: 0.0916 - val_loss: 2.3031 - val_accuracy: 0.1150\n",
      "Epoch 41/70\n",
      "71/71 [==============================] - 0s 7ms/step - loss: 2.3093 - accuracy: 0.1019 - val_loss: 2.3070 - val_accuracy: 0.1030\n",
      "Epoch 42/70\n",
      "71/71 [==============================] - 0s 7ms/step - loss: 2.3070 - accuracy: 0.0990 - val_loss: 2.3047 - val_accuracy: 0.1030\n",
      "Epoch 43/70\n",
      "71/71 [==============================] - 0s 6ms/step - loss: 2.3074 - accuracy: 0.1013 - val_loss: 2.3088 - val_accuracy: 0.0940\n",
      "Epoch 44/70\n",
      "71/71 [==============================] - 0s 6ms/step - loss: 2.3083 - accuracy: 0.1043 - val_loss: 2.3093 - val_accuracy: 0.0990\n",
      "Epoch 45/70\n",
      "71/71 [==============================] - 0s 6ms/step - loss: 2.3085 - accuracy: 0.0954 - val_loss: 2.3165 - val_accuracy: 0.0990\n",
      "Epoch 46/70\n",
      "71/71 [==============================] - 0s 7ms/step - loss: 2.3101 - accuracy: 0.0944 - val_loss: 2.3042 - val_accuracy: 0.1030\n",
      "Epoch 47/70\n",
      "71/71 [==============================] - 0s 7ms/step - loss: 2.3068 - accuracy: 0.1017 - val_loss: 2.3156 - val_accuracy: 0.0980\n",
      "Epoch 48/70\n",
      "71/71 [==============================] - 0s 7ms/step - loss: 2.3077 - accuracy: 0.1014 - val_loss: 2.3093 - val_accuracy: 0.0950\n",
      "Epoch 49/70\n",
      "71/71 [==============================] - 0s 6ms/step - loss: 2.3082 - accuracy: 0.1024 - val_loss: 2.3053 - val_accuracy: 0.1040\n",
      "Epoch 50/70\n",
      "71/71 [==============================] - 0s 7ms/step - loss: 2.3073 - accuracy: 0.0998 - val_loss: 2.3097 - val_accuracy: 0.0990\n",
      "Epoch 51/70\n",
      "71/71 [==============================] - 0s 7ms/step - loss: 2.3085 - accuracy: 0.0969 - val_loss: 2.3057 - val_accuracy: 0.1040\n",
      "Epoch 52/70\n",
      "71/71 [==============================] - 0s 6ms/step - loss: 2.3072 - accuracy: 0.0983 - val_loss: 2.3060 - val_accuracy: 0.0870\n",
      "Epoch 53/70\n",
      "71/71 [==============================] - 0s 6ms/step - loss: 2.3075 - accuracy: 0.1002 - val_loss: 2.3067 - val_accuracy: 0.0990\n",
      "Epoch 54/70\n",
      "71/71 [==============================] - 0s 7ms/step - loss: 2.3106 - accuracy: 0.0994 - val_loss: 2.3147 - val_accuracy: 0.0870\n",
      "Epoch 55/70\n",
      "71/71 [==============================] - 0s 6ms/step - loss: 2.3084 - accuracy: 0.1019 - val_loss: 2.3065 - val_accuracy: 0.0980\n",
      "Epoch 56/70\n",
      "71/71 [==============================] - 0s 7ms/step - loss: 2.3070 - accuracy: 0.1040 - val_loss: 2.3083 - val_accuracy: 0.0980\n",
      "Epoch 57/70\n",
      "71/71 [==============================] - 0s 7ms/step - loss: 2.3102 - accuracy: 0.0976 - val_loss: 2.3080 - val_accuracy: 0.0980\n",
      "Epoch 58/70\n",
      "71/71 [==============================] - 0s 6ms/step - loss: 2.3072 - accuracy: 0.1029 - val_loss: 2.3027 - val_accuracy: 0.1150\n",
      "Epoch 59/70\n"
     ]
    },
    {
     "name": "stdout",
     "output_type": "stream",
     "text": [
      "71/71 [==============================] - 0s 7ms/step - loss: 2.3074 - accuracy: 0.1032 - val_loss: 2.3104 - val_accuracy: 0.0990\n",
      "Epoch 60/70\n",
      "71/71 [==============================] - 0s 7ms/step - loss: 2.3082 - accuracy: 0.0986 - val_loss: 2.3069 - val_accuracy: 0.0870\n",
      "Epoch 61/70\n",
      "71/71 [==============================] - 0s 6ms/step - loss: 2.3074 - accuracy: 0.0950 - val_loss: 2.3114 - val_accuracy: 0.1040\n",
      "Epoch 62/70\n",
      "71/71 [==============================] - 0s 7ms/step - loss: 2.3097 - accuracy: 0.0921 - val_loss: 2.3056 - val_accuracy: 0.0990\n",
      "Epoch 63/70\n",
      "71/71 [==============================] - 0s 7ms/step - loss: 2.3070 - accuracy: 0.0987 - val_loss: 2.3083 - val_accuracy: 0.1030\n",
      "Epoch 64/70\n",
      "71/71 [==============================] - 1s 7ms/step - loss: 2.3088 - accuracy: 0.0958 - val_loss: 2.3038 - val_accuracy: 0.0870\n",
      "Epoch 65/70\n",
      "71/71 [==============================] - 0s 7ms/step - loss: 2.3086 - accuracy: 0.0991 - val_loss: 2.3096 - val_accuracy: 0.0870\n",
      "Epoch 66/70\n",
      "71/71 [==============================] - 0s 6ms/step - loss: 2.3093 - accuracy: 0.0946 - val_loss: 2.3048 - val_accuracy: 0.1030\n",
      "Epoch 67/70\n",
      "71/71 [==============================] - 0s 7ms/step - loss: 2.3096 - accuracy: 0.0998 - val_loss: 2.3049 - val_accuracy: 0.1030\n",
      "Epoch 68/70\n",
      "71/71 [==============================] - 0s 6ms/step - loss: 2.3073 - accuracy: 0.1050 - val_loss: 2.3087 - val_accuracy: 0.0990\n",
      "Epoch 69/70\n",
      "71/71 [==============================] - 0s 6ms/step - loss: 2.3094 - accuracy: 0.0957 - val_loss: 2.3073 - val_accuracy: 0.0870\n",
      "Epoch 70/70\n",
      "71/71 [==============================] - 0s 6ms/step - loss: 2.3081 - accuracy: 0.1023 - val_loss: 2.3122 - val_accuracy: 0.0870\n"
     ]
    }
   ],
   "source": [
    "history=model.fit(x_train,y_train,validation_split=0.1,batch_size=128,epochs=70)"
   ]
  },
  {
   "cell_type": "markdown",
   "id": "4f27a23d",
   "metadata": {},
   "source": [
    "Plotting learn curves:"
   ]
  },
  {
   "cell_type": "code",
   "execution_count": 172,
   "id": "d5466c08",
   "metadata": {},
   "outputs": [
    {
     "data": {
      "image/png": "[encoded data removed]",
      "text/plain": [
       "<Figure size 432x288 with 1 Axes>"
      ]
     },
     "metadata": {
      "needs_background": "light"
     },
     "output_type": "display_data"
    }
   ],
   "source": [
    "plt.plot(history.history['loss'],'b-')\n",
    "plt.plot(history.history['val_loss'],'r-')\n",
    "plt.show()"
   ]
  },
  {
   "cell_type": "code",
   "execution_count": 173,
   "id": "4171ffcb",
   "metadata": {},
   "outputs": [
    {
     "data": {
      "image/png": "[encoded data removed]",
      "text/plain": [
       "<Figure size 432x288 with 1 Axes>"
      ]
     },
     "metadata": {
      "needs_background": "light"
     },
     "output_type": "display_data"
    }
   ],
   "source": [
    "plt.plot(history.history['accuracy'],'b-')\n",
    "plt.plot(history.history['val_accuracy'],'r-')\n",
    "plt.show()"
   ]
  },
  {
   "cell_type": "code",
   "execution_count": 174,
   "id": "7092d5c6",
   "metadata": {},
   "outputs": [
    {
     "name": "stdout",
     "output_type": "stream",
     "text": [
      "max acc of validation: 0.11500000208616257\n"
     ]
    }
   ],
   "source": [
    "print('max acc of validation:',max(history.history['val_accuracy']))"
   ]
  },
  {
   "cell_type": "code",
   "execution_count": 175,
   "id": "72fa1734",
   "metadata": {},
   "outputs": [
    {
     "name": "stdout",
     "output_type": "stream",
     "text": [
      "max acc of trian: 0.10499999672174454\n"
     ]
    }
   ],
   "source": [
    "print('max acc of trian:',max(history.history['accuracy']))"
   ]
  },
  {
   "cell_type": "code",
   "execution_count": null,
   "id": "471ae115",
   "metadata": {},
   "outputs": [],
   "source": []
  }
 ],
 "metadata": {
  "kernelspec": {
   "display_name": "Python 3",
   "language": "python",
   "name": "python3"
  },
  "language_info": {
   "codemirror_mode": {
    "name": "ipython",
    "version": 3
   },
   "file_extension": ".py",
   "mimetype": "text/x-python",
   "name": "python",
   "nbconvert_exporter": "python",
   "pygments_lexer": "ipython3",
   "version": "3.8.8"
  }
 },
 "nbformat": 4,
 "nbformat_minor": 5
}
