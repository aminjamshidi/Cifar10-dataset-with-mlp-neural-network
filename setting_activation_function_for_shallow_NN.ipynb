{
 "cells": [
  {
   "cell_type": "markdown",
   "id": "c9217ede",
   "metadata": {},
   "source": [
    "# تعیین تابع فعالیت مناسب"
   ]
  },
  {
   "cell_type": "code",
   "execution_count": null,
   "id": "2350b1fa",
   "metadata": {},
   "outputs": [],
   "source": [
    "import numpy as np\n",
    "import matplotlib.pyplot as plt\n",
    "import os\n",
    "from six.moves import cPickle\n",
    "import tensorflow as tf\n",
    "from tensorflow import keras\n",
    "from tensorflow.keras.models import Sequential\n",
    "from tensorflow.keras.layers import Activation,Dense\n",
    "from tensorflow.keras.optimizers import Adam\n",
    "from tensorflow.keras.utils import to_categorical\n",
    "%matplotlib inline"
   ]
  },
  {
   "cell_type": "markdown",
   "id": "ea5ef9c3",
   "metadata": {},
   "source": [
    "# Definding function:"
   ]
  },
  {
   "cell_type": "code",
   "execution_count": 2,
   "id": "4f724b75",
   "metadata": {},
   "outputs": [],
   "source": [
    "# this function give file of data  as numpy array or image\n",
    "\n",
    "def getImageData(filename):\n",
    "    f = open(filename,'rb')\n",
    "    datadict = cPickle.load(f,encoding='latin1') #Why the hell latin1 ???\n",
    "    f.close()\n",
    "    X=datadict['data'].reshape((len(datadict['data']), 3, 32, 32)).transpose(0, 2, 3, 1)\n",
    "    return X\n",
    "\n",
    "\n",
    "# this function give file of data  as dictionary\n",
    "\n",
    "\n",
    "def unpickle(file):\n",
    "    import pickle\n",
    "    with open(file, 'rb') as fo:\n",
    "        dict = pickle.load(fo, encoding='bytes')\n",
    "    return dict"
   ]
  },
  {
   "cell_type": "code",
   "execution_count": 33,
   "id": "74ae6bb3",
   "metadata": {},
   "outputs": [
    {
     "name": "stdout",
     "output_type": "stream",
     "text": [
      "shape of input image: (10000, 32, 32, 3)\n",
      "#############################################\n",
      "[1. 0. 0. 0. 0. 0. 0. 0. 0. 0.]\n",
      "shape of target vector: (10000, 10)\n"
     ]
    },
    {
     "data": {
      "image/png": "[encoded data removed]",
      "text/plain": [
       "<Figure size 432x288 with 1 Axes>"
      ]
     },
     "metadata": {
      "needs_background": "light"
     },
     "output_type": "display_data"
    }
   ],
   "source": [
    "file='cifar-10-batches-py\\data_batch_3'\n",
    "\n",
    "X_image = getImageData(file)\n",
    "x=unpickle(file)\n",
    "\n",
    "\n",
    "print('shape of input image:',X_image.shape)\n",
    "print('#############################################')\n",
    "plt.imshow(X_image[35])\n",
    "\n",
    "\n",
    "#geting vector  of target of data:\n",
    "y=x[b'labels']\n",
    "y_train=to_categorical(y)\n",
    "print(y_train[35])\n",
    "print('shape of target vector:',y_train.shape)"
   ]
  },
  {
   "cell_type": "markdown",
   "id": "39a4e089",
   "metadata": {},
   "source": [
    "preprocess data: step one:"
   ]
  },
  {
   "cell_type": "code",
   "execution_count": 34,
   "id": "5a22c694",
   "metadata": {},
   "outputs": [],
   "source": [
    "x_flatten=X_image.reshape(10000,-1)\n",
    "\n",
    "x_train=x_flatten/255"
   ]
  },
  {
   "cell_type": "markdown",
   "id": "afe07c39",
   "metadata": {},
   "source": [
    "# Constructing model:"
   ]
  },
  {
   "cell_type": "markdown",
   "id": "ddba0303",
   "metadata": {},
   "source": [
    "در این قسمت با تغییر تابع فعالیت لایه وسط و ثابت نگه داشتن سایر پارامتر ها بهترین تابع فعالیت  را تعیین کرده"
   ]
  },
  {
   "cell_type": "code",
   "execution_count": 35,
   "id": "bdb73529",
   "metadata": {},
   "outputs": [
    {
     "name": "stdout",
     "output_type": "stream",
     "text": [
      "Model: \"sequential_5\"\n",
      "_________________________________________________________________\n",
      "Layer (type)                 Output Shape              Param #   \n",
      "=================================================================\n",
      "dense_10 (Dense)             (None, 500)               1536500   \n",
      "_________________________________________________________________\n",
      "dense_11 (Dense)             (None, 10)                5010      \n",
      "=================================================================\n",
      "Total params: 1,541,510\n",
      "Trainable params: 1,541,510\n",
      "Non-trainable params: 0\n",
      "_________________________________________________________________\n"
     ]
    }
   ],
   "source": [
    "activation_functions=['sigmoid','tanh','relu']\n",
    "\n",
    "model=Sequential()\n",
    "\n",
    "\n",
    "\n",
    "model.add(Dense(500,activation=activation_functions[2],input_dim=3072))\n",
    "\n",
    "model.add(Dense(10,activation='softmax'))\n",
    "model.summary()"
   ]
  },
  {
   "cell_type": "code",
   "execution_count": 36,
   "id": "efd8185e",
   "metadata": {},
   "outputs": [],
   "source": [
    "model.compile(optimizer='Adam',loss='categorical_crossentropy',metrics=['accuracy'])"
   ]
  },
  {
   "cell_type": "code",
   "execution_count": 37,
   "id": "091cf477",
   "metadata": {
    "scrolled": false
   },
   "outputs": [
    {
     "name": "stdout",
     "output_type": "stream",
     "text": [
      "Epoch 1/75\n",
      "71/71 [==============================] - 1s 8ms/step - loss: 2.4306 - accuracy: 0.2292 - val_loss: 1.9466 - val_accuracy: 0.3100\n",
      "Epoch 2/75\n",
      "71/71 [==============================] - 0s 7ms/step - loss: 1.9085 - accuracy: 0.3187 - val_loss: 1.8998 - val_accuracy: 0.3310\n",
      "Epoch 3/75\n",
      "71/71 [==============================] - 0s 6ms/step - loss: 1.8263 - accuracy: 0.3533 - val_loss: 1.8048 - val_accuracy: 0.3720\n",
      "Epoch 4/75\n",
      "71/71 [==============================] - 0s 6ms/step - loss: 1.7787 - accuracy: 0.3664 - val_loss: 1.7944 - val_accuracy: 0.3710\n",
      "Epoch 5/75\n",
      "71/71 [==============================] - 0s 6ms/step - loss: 1.7397 - accuracy: 0.3876 - val_loss: 1.8728 - val_accuracy: 0.3320\n",
      "Epoch 6/75\n",
      "71/71 [==============================] - 0s 6ms/step - loss: 1.7212 - accuracy: 0.3907 - val_loss: 1.7754 - val_accuracy: 0.3730\n",
      "Epoch 7/75\n",
      "71/71 [==============================] - 0s 6ms/step - loss: 1.6740 - accuracy: 0.4086 - val_loss: 1.7384 - val_accuracy: 0.3890\n",
      "Epoch 8/75\n",
      "71/71 [==============================] - 0s 6ms/step - loss: 1.6483 - accuracy: 0.4177 - val_loss: 1.7230 - val_accuracy: 0.3920\n",
      "Epoch 9/75\n",
      "71/71 [==============================] - 0s 7ms/step - loss: 1.6141 - accuracy: 0.4308 - val_loss: 1.7316 - val_accuracy: 0.4040\n",
      "Epoch 10/75\n",
      "71/71 [==============================] - 0s 7ms/step - loss: 1.5940 - accuracy: 0.4391 - val_loss: 1.7004 - val_accuracy: 0.4010\n",
      "Epoch 11/75\n",
      "71/71 [==============================] - 0s 7ms/step - loss: 1.5737 - accuracy: 0.4413 - val_loss: 1.6844 - val_accuracy: 0.4020\n",
      "Epoch 12/75\n",
      "71/71 [==============================] - 0s 6ms/step - loss: 1.5464 - accuracy: 0.4559 - val_loss: 1.6849 - val_accuracy: 0.3930\n",
      "Epoch 13/75\n",
      "71/71 [==============================] - 0s 6ms/step - loss: 1.5204 - accuracy: 0.4638 - val_loss: 1.7112 - val_accuracy: 0.3870\n",
      "Epoch 14/75\n",
      "71/71 [==============================] - 0s 6ms/step - loss: 1.5139 - accuracy: 0.4671 - val_loss: 1.6587 - val_accuracy: 0.4110\n",
      "Epoch 15/75\n",
      "71/71 [==============================] - 0s 6ms/step - loss: 1.4872 - accuracy: 0.4741 - val_loss: 1.6875 - val_accuracy: 0.4020\n",
      "Epoch 16/75\n",
      "71/71 [==============================] - 0s 7ms/step - loss: 1.4906 - accuracy: 0.4687 - val_loss: 1.6635 - val_accuracy: 0.4260\n",
      "Epoch 17/75\n",
      "71/71 [==============================] - 0s 7ms/step - loss: 1.4606 - accuracy: 0.4826 - val_loss: 1.6512 - val_accuracy: 0.4150\n",
      "Epoch 18/75\n",
      "71/71 [==============================] - 0s 7ms/step - loss: 1.4580 - accuracy: 0.4819 - val_loss: 1.6403 - val_accuracy: 0.4340\n",
      "Epoch 19/75\n",
      "71/71 [==============================] - 0s 6ms/step - loss: 1.4454 - accuracy: 0.4884 - val_loss: 1.6854 - val_accuracy: 0.4090\n",
      "Epoch 20/75\n",
      "71/71 [==============================] - 0s 6ms/step - loss: 1.4388 - accuracy: 0.4922 - val_loss: 1.7217 - val_accuracy: 0.3980\n",
      "Epoch 21/75\n",
      "71/71 [==============================] - 0s 6ms/step - loss: 1.4068 - accuracy: 0.5031 - val_loss: 1.6808 - val_accuracy: 0.4170\n",
      "Epoch 22/75\n",
      "71/71 [==============================] - 0s 7ms/step - loss: 1.4044 - accuracy: 0.4998 - val_loss: 1.7042 - val_accuracy: 0.4150\n",
      "Epoch 23/75\n",
      "71/71 [==============================] - 0s 7ms/step - loss: 1.3773 - accuracy: 0.5138 - val_loss: 1.6213 - val_accuracy: 0.4340\n",
      "Epoch 24/75\n",
      "71/71 [==============================] - 0s 7ms/step - loss: 1.3500 - accuracy: 0.5224 - val_loss: 1.6312 - val_accuracy: 0.4330\n",
      "Epoch 25/75\n",
      "71/71 [==============================] - 0s 6ms/step - loss: 1.3597 - accuracy: 0.5177 - val_loss: 1.6522 - val_accuracy: 0.4370\n",
      "Epoch 26/75\n",
      "71/71 [==============================] - 0s 7ms/step - loss: 1.3293 - accuracy: 0.5311 - val_loss: 1.6184 - val_accuracy: 0.4400\n",
      "Epoch 27/75\n",
      "71/71 [==============================] - 0s 7ms/step - loss: 1.3111 - accuracy: 0.5394 - val_loss: 1.6944 - val_accuracy: 0.4210\n",
      "Epoch 28/75\n",
      "71/71 [==============================] - 0s 6ms/step - loss: 1.3085 - accuracy: 0.5350 - val_loss: 1.6881 - val_accuracy: 0.4140\n",
      "Epoch 29/75\n",
      "71/71 [==============================] - 0s 6ms/step - loss: 1.2988 - accuracy: 0.5394 - val_loss: 1.6636 - val_accuracy: 0.4260\n",
      "Epoch 30/75\n",
      "71/71 [==============================] - 0s 6ms/step - loss: 1.2812 - accuracy: 0.5438 - val_loss: 1.6255 - val_accuracy: 0.4330\n",
      "Epoch 31/75\n",
      "71/71 [==============================] - 0s 6ms/step - loss: 1.2901 - accuracy: 0.5448 - val_loss: 1.6953 - val_accuracy: 0.4300\n",
      "Epoch 32/75\n",
      "71/71 [==============================] - 0s 6ms/step - loss: 1.2658 - accuracy: 0.5549 - val_loss: 1.6548 - val_accuracy: 0.4300\n",
      "Epoch 33/75\n",
      "71/71 [==============================] - 0s 6ms/step - loss: 1.2369 - accuracy: 0.5673 - val_loss: 1.5940 - val_accuracy: 0.4550\n",
      "Epoch 34/75\n",
      "71/71 [==============================] - 0s 6ms/step - loss: 1.2164 - accuracy: 0.5658 - val_loss: 1.6530 - val_accuracy: 0.4350\n",
      "Epoch 35/75\n",
      "71/71 [==============================] - 0s 6ms/step - loss: 1.2170 - accuracy: 0.5684 - val_loss: 1.7053 - val_accuracy: 0.4280\n",
      "Epoch 36/75\n",
      "71/71 [==============================] - 0s 6ms/step - loss: 1.2308 - accuracy: 0.5658 - val_loss: 1.7068 - val_accuracy: 0.4260\n",
      "Epoch 37/75\n",
      "71/71 [==============================] - 0s 7ms/step - loss: 1.2089 - accuracy: 0.5717 - val_loss: 1.6226 - val_accuracy: 0.4560\n",
      "Epoch 38/75\n",
      "71/71 [==============================] - 0s 7ms/step - loss: 1.1750 - accuracy: 0.5874 - val_loss: 1.6651 - val_accuracy: 0.4140\n",
      "Epoch 39/75\n",
      "71/71 [==============================] - 0s 6ms/step - loss: 1.1878 - accuracy: 0.5797 - val_loss: 1.7163 - val_accuracy: 0.4220\n",
      "Epoch 40/75\n",
      "71/71 [==============================] - 0s 7ms/step - loss: 1.1693 - accuracy: 0.5839 - val_loss: 1.6736 - val_accuracy: 0.4410\n",
      "Epoch 41/75\n",
      "71/71 [==============================] - 0s 7ms/step - loss: 1.1523 - accuracy: 0.5900 - val_loss: 1.6543 - val_accuracy: 0.4450\n",
      "Epoch 42/75\n",
      "71/71 [==============================] - 0s 6ms/step - loss: 1.1495 - accuracy: 0.5953 - val_loss: 1.7126 - val_accuracy: 0.4400\n",
      "Epoch 43/75\n",
      "71/71 [==============================] - 0s 6ms/step - loss: 1.1377 - accuracy: 0.6069 - val_loss: 1.7121 - val_accuracy: 0.4360\n",
      "Epoch 44/75\n",
      "71/71 [==============================] - 0s 6ms/step - loss: 1.1012 - accuracy: 0.6138 - val_loss: 1.6345 - val_accuracy: 0.4390\n",
      "Epoch 45/75\n",
      "71/71 [==============================] - 0s 6ms/step - loss: 1.1136 - accuracy: 0.6041 - val_loss: 1.7160 - val_accuracy: 0.4380\n",
      "Epoch 46/75\n",
      "71/71 [==============================] - 0s 6ms/step - loss: 1.0966 - accuracy: 0.6167 - val_loss: 1.6409 - val_accuracy: 0.4480\n",
      "Epoch 47/75\n",
      "71/71 [==============================] - 0s 6ms/step - loss: 1.0847 - accuracy: 0.6199 - val_loss: 1.6625 - val_accuracy: 0.4550\n",
      "Epoch 48/75\n",
      "71/71 [==============================] - 0s 6ms/step - loss: 1.0684 - accuracy: 0.6263 - val_loss: 1.7953 - val_accuracy: 0.4320\n",
      "Epoch 49/75\n",
      "71/71 [==============================] - 0s 6ms/step - loss: 1.0642 - accuracy: 0.6298 - val_loss: 1.6884 - val_accuracy: 0.4520\n",
      "Epoch 50/75\n",
      "71/71 [==============================] - 0s 6ms/step - loss: 1.0714 - accuracy: 0.6222 - val_loss: 1.7459 - val_accuracy: 0.4390\n",
      "Epoch 51/75\n",
      "71/71 [==============================] - 0s 6ms/step - loss: 1.0634 - accuracy: 0.6270 - val_loss: 1.6650 - val_accuracy: 0.4390\n",
      "Epoch 52/75\n",
      "71/71 [==============================] - 0s 6ms/step - loss: 1.0382 - accuracy: 0.6357 - val_loss: 1.7929 - val_accuracy: 0.4390\n",
      "Epoch 53/75\n",
      "71/71 [==============================] - 0s 7ms/step - loss: 1.0384 - accuracy: 0.6324 - val_loss: 1.7297 - val_accuracy: 0.4460\n",
      "Epoch 54/75\n",
      "71/71 [==============================] - 1s 7ms/step - loss: 0.9969 - accuracy: 0.6504 - val_loss: 1.7776 - val_accuracy: 0.4310\n",
      "Epoch 55/75\n",
      "71/71 [==============================] - 0s 7ms/step - loss: 1.0094 - accuracy: 0.6513 - val_loss: 1.7288 - val_accuracy: 0.4430\n",
      "Epoch 56/75\n",
      "71/71 [==============================] - 0s 7ms/step - loss: 0.9976 - accuracy: 0.6478 - val_loss: 1.7056 - val_accuracy: 0.4520\n",
      "Epoch 57/75\n",
      "71/71 [==============================] - 0s 7ms/step - loss: 0.9956 - accuracy: 0.6504 - val_loss: 1.7626 - val_accuracy: 0.4520\n",
      "Epoch 58/75\n",
      "71/71 [==============================] - 0s 7ms/step - loss: 0.9668 - accuracy: 0.6658 - val_loss: 1.7300 - val_accuracy: 0.4430\n",
      "Epoch 59/75\n"
     ]
    },
    {
     "name": "stdout",
     "output_type": "stream",
     "text": [
      "71/71 [==============================] - 0s 6ms/step - loss: 0.9632 - accuracy: 0.6658 - val_loss: 1.7111 - val_accuracy: 0.4440\n",
      "Epoch 60/75\n",
      "71/71 [==============================] - 0s 7ms/step - loss: 0.9614 - accuracy: 0.6664 - val_loss: 1.7735 - val_accuracy: 0.4490\n",
      "Epoch 61/75\n",
      "71/71 [==============================] - 0s 7ms/step - loss: 0.9468 - accuracy: 0.6704 - val_loss: 1.8753 - val_accuracy: 0.4150\n",
      "Epoch 62/75\n",
      "71/71 [==============================] - 0s 6ms/step - loss: 0.9363 - accuracy: 0.6756 - val_loss: 1.8233 - val_accuracy: 0.4410\n",
      "Epoch 63/75\n",
      "71/71 [==============================] - 0s 6ms/step - loss: 0.9332 - accuracy: 0.6731 - val_loss: 1.8066 - val_accuracy: 0.4600\n",
      "Epoch 64/75\n",
      "71/71 [==============================] - 0s 6ms/step - loss: 0.9197 - accuracy: 0.6794 - val_loss: 1.8417 - val_accuracy: 0.4290\n",
      "Epoch 65/75\n",
      "71/71 [==============================] - 0s 6ms/step - loss: 0.9272 - accuracy: 0.6772 - val_loss: 1.8078 - val_accuracy: 0.4310\n",
      "Epoch 66/75\n",
      "71/71 [==============================] - 0s 6ms/step - loss: 0.8920 - accuracy: 0.6847 - val_loss: 1.8140 - val_accuracy: 0.4430\n",
      "Epoch 67/75\n",
      "71/71 [==============================] - 0s 6ms/step - loss: 0.8961 - accuracy: 0.6881 - val_loss: 1.8213 - val_accuracy: 0.4410\n",
      "Epoch 68/75\n",
      "71/71 [==============================] - 0s 6ms/step - loss: 0.8807 - accuracy: 0.6906 - val_loss: 1.8718 - val_accuracy: 0.4260\n",
      "Epoch 69/75\n",
      "71/71 [==============================] - 0s 6ms/step - loss: 0.8814 - accuracy: 0.6943 - val_loss: 1.8038 - val_accuracy: 0.4380\n",
      "Epoch 70/75\n",
      "71/71 [==============================] - 0s 7ms/step - loss: 0.8503 - accuracy: 0.7080 - val_loss: 1.7906 - val_accuracy: 0.4430\n",
      "Epoch 71/75\n",
      "71/71 [==============================] - 0s 6ms/step - loss: 0.8562 - accuracy: 0.7023 - val_loss: 1.8247 - val_accuracy: 0.4260\n",
      "Epoch 72/75\n",
      "71/71 [==============================] - 0s 6ms/step - loss: 0.8434 - accuracy: 0.7084 - val_loss: 1.8482 - val_accuracy: 0.4350\n",
      "Epoch 73/75\n",
      "71/71 [==============================] - 0s 7ms/step - loss: 0.8366 - accuracy: 0.7152 - val_loss: 1.8777 - val_accuracy: 0.4320\n",
      "Epoch 74/75\n",
      "71/71 [==============================] - 0s 7ms/step - loss: 0.8305 - accuracy: 0.7204 - val_loss: 1.8460 - val_accuracy: 0.4300\n",
      "Epoch 75/75\n",
      "71/71 [==============================] - 1s 7ms/step - loss: 0.8365 - accuracy: 0.7059 - val_loss: 1.8871 - val_accuracy: 0.4310\n"
     ]
    }
   ],
   "source": [
    "history=model.fit(x_train,y_train,validation_split=0.1,batch_size=128,epochs=75)"
   ]
  },
  {
   "cell_type": "markdown",
   "id": "d3fe5607",
   "metadata": {},
   "source": [
    "Plotting learn curves:"
   ]
  },
  {
   "cell_type": "code",
   "execution_count": 38,
   "id": "55afa6b3",
   "metadata": {},
   "outputs": [
    {
     "data": {
      "image/png": "[encoded data removed]",
      "text/plain": [
       "<Figure size 432x288 with 1 Axes>"
      ]
     },
     "metadata": {
      "needs_background": "light"
     },
     "output_type": "display_data"
    }
   ],
   "source": [
    "plt.plot(history.history['loss'],'b-')\n",
    "plt.plot(history.history['val_loss'],'r-')\n",
    "plt.show()"
   ]
  },
  {
   "cell_type": "code",
   "execution_count": 39,
   "id": "7e3c8049",
   "metadata": {},
   "outputs": [
    {
     "data": {
      "image/png": "[encoded data removed]",
      "text/plain": [
       "<Figure size 432x288 with 1 Axes>"
      ]
     },
     "metadata": {
      "needs_background": "light"
     },
     "output_type": "display_data"
    }
   ],
   "source": [
    "plt.plot(history.history['accuracy'],'b-')\n",
    "plt.plot(history.history['val_accuracy'],'r-')\n",
    "plt.show()"
   ]
  },
  {
   "cell_type": "code",
   "execution_count": 40,
   "id": "da53063c",
   "metadata": {},
   "outputs": [
    {
     "name": "stdout",
     "output_type": "stream",
     "text": [
      "max acc of validation: 0.46000000834465027\n"
     ]
    }
   ],
   "source": [
    "print('max acc of validation:',max(history.history['val_accuracy']))"
   ]
  },
  {
   "cell_type": "code",
   "execution_count": 41,
   "id": "5df17fd6",
   "metadata": {},
   "outputs": [
    {
     "name": "stdout",
     "output_type": "stream",
     "text": [
      "max acc of trian: 0.7204444408416748\n"
     ]
    }
   ],
   "source": [
    "print('max acc of trian:',max(history.history['accuracy']))"
   ]
  },
  {
   "cell_type": "code",
   "execution_count": null,
   "id": "1d4a885d",
   "metadata": {},
   "outputs": [],
   "source": []
  }
 ],
 "metadata": {
  "kernelspec": {
   "display_name": "Python 3",
   "language": "python",
   "name": "python3"
  },
  "language_info": {
   "codemirror_mode": {
    "name": "ipython",
    "version": 3
   },
   "file_extension": ".py",
   "mimetype": "text/x-python",
   "name": "python",
   "nbconvert_exporter": "python",
   "pygments_lexer": "ipython3",
   "version": "3.8.8"
  }
 },
 "nbformat": 4,
 "nbformat_minor": 5
}
